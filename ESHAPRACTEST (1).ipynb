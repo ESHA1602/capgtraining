{
  "nbformat": 4,
  "nbformat_minor": 0,
  "metadata": {
    "colab": {
      "name": "ESHAPRACTEST.ipynb",
      "provenance": [],
      "collapsed_sections": []
    },
    "kernelspec": {
      "name": "python3",
      "display_name": "Python 3"
    },
    "language_info": {
      "name": "python"
    }
  },
  "cells": [
    {
      "cell_type": "markdown",
      "source": [
        ""
      ],
      "metadata": {
        "id": "8CAAc78_ae9v"
      }
    },
    {
      "cell_type": "markdown",
      "source": [
        "###ANSWER1"
      ],
      "metadata": {
        "id": "RLqLJU_maii5"
      }
    },
    {
      "cell_type": "code",
      "source": [
        "A=[]\n",
        "for x in range(2000, 3200):\n",
        "    if (x%7==0) and (x%5==0):\n",
        "        A.append(str(x))\n",
        "print (','.join(A))"
      ],
      "metadata": {
        "colab": {
          "base_uri": "https://localhost:8080/"
        },
        "id": "xXEa1e3fanIV",
        "outputId": "1784f056-76a2-4840-c959-a081c6679fd7"
      },
      "execution_count": null,
      "outputs": [
        {
          "output_type": "stream",
          "name": "stdout",
          "text": [
            "2030,2065,2100,2135,2170,2205,2240,2275,2310,2345,2380,2415,2450,2485,2520,2555,2590,2625,2660,2695,2730,2765,2800,2835,2870,2905,2940,2975,3010,3045,3080,3115,3150,3185\n"
          ]
        }
      ]
    },
    {
      "cell_type": "markdown",
      "source": [
        "###ANSWER2"
      ],
      "metadata": {
        "id": "m9ol6e0Ja4o-"
      }
    },
    {
      "cell_type": "code",
      "source": [
        "def factorial(n):\n",
        "    value = 1\n",
        "    for i in range(1, n+1):\n",
        "        value = value * i\n",
        "    return value\n",
        "\n",
        "number = int(input(\"Type a number: \"))\n",
        "print(factorial(number))"
      ],
      "metadata": {
        "colab": {
          "base_uri": "https://localhost:8080/"
        },
        "id": "AY3sTF_ua8vf",
        "outputId": "a07e172b-b3f2-416d-f54c-9fbafe4404dd"
      },
      "execution_count": null,
      "outputs": [
        {
          "output_type": "stream",
          "name": "stdout",
          "text": [
            "Type a number: 8\n",
            "40320\n"
          ]
        }
      ]
    },
    {
      "cell_type": "markdown",
      "source": [
        "###ANSWER3"
      ],
      "metadata": {
        "id": "p5O1-y0rbTSs"
      }
    },
    {
      "cell_type": "code",
      "source": [
        "num = int(input(\"Type a number: \"))\n",
        "\n",
        "dic= {}\n",
        "for i in range(1, num+1):\n",
        "  dic.update({i:i*i})\n",
        "\n",
        "print(dic)"
      ],
      "metadata": {
        "colab": {
          "base_uri": "https://localhost:8080/"
        },
        "id": "HRtrt8icbV8I",
        "outputId": "197fa2f4-df74-44e5-803a-834b5970a353"
      },
      "execution_count": null,
      "outputs": [
        {
          "output_type": "stream",
          "name": "stdout",
          "text": [
            "Type a number: 8\n",
            "{1: 1, 2: 4, 3: 9, 4: 16, 5: 25, 6: 36, 7: 49, 8: 64}\n"
          ]
        }
      ]
    },
    {
      "cell_type": "markdown",
      "source": [
        "###ANSWER4\n"
      ],
      "metadata": {
        "id": "4R7MFo-Wbrzs"
      }
    },
    {
      "cell_type": "code",
      "source": [
        "num = input(\"ENTER THE NUMBERS : \")\n",
        "list = num.split(\",\")\n",
        "tuple = tuple(list)\n",
        "print('List : ',list)\n",
        "print('Tuple : ',tuple)"
      ],
      "metadata": {
        "colab": {
          "base_uri": "https://localhost:8080/"
        },
        "id": "l5PgeVUJbyfX",
        "outputId": "864a93a2-3880-4ed4-8027-56f99ecf9c5f"
      },
      "execution_count": null,
      "outputs": [
        {
          "output_type": "stream",
          "name": "stdout",
          "text": [
            "ENTER THE NUMBERS : 1,2,3,4,5,6\n",
            "List :  ['1', '2', '3', '4', '5', '6']\n",
            "Tuple :  ('1', '2', '3', '4', '5', '6')\n"
          ]
        }
      ]
    },
    {
      "cell_type": "markdown",
      "source": [
        "###ANSWER5"
      ],
      "metadata": {
        "id": "1AKdkdkCcCyb"
      }
    },
    {
      "cell_type": "code",
      "source": [
        "class ANSWER5:\n",
        "    def __init__(self):\n",
        "        self.s = \"\"\n",
        "\n",
        "    def getString(self):\n",
        "        self.s = input()\n",
        "\n",
        "    def printString(self):\n",
        "        print(self.s.upper())\n",
        "a = ANSWER5()\n",
        "a.getString()\n",
        "a.printString()"
      ],
      "metadata": {
        "colab": {
          "base_uri": "https://localhost:8080/"
        },
        "id": "kPgko90acFD1",
        "outputId": "ef0d3ad3-d2a2-4c24-a76c-429fbe4ac8d3"
      },
      "execution_count": null,
      "outputs": [
        {
          "output_type": "stream",
          "name": "stdout",
          "text": [
            "esha\n",
            "ESHA\n"
          ]
        }
      ]
    },
    {
      "cell_type": "markdown",
      "source": [
        "###ANSWER6"
      ],
      "metadata": {
        "id": "FFDV9k7UeJbx"
      }
    },
    {
      "cell_type": "code",
      "source": [
        "import math\n",
        "N = input(\"ENTER D VALUE: \")\n",
        "N = N.split(',')\n",
        "L1 = []\n",
        "for D in N:\n",
        "    Q = round(math.sqrt(2 * 50 * int(D) / 30))\n",
        "    L1.append(Q)\n",
        "print(L1)"
      ],
      "metadata": {
        "colab": {
          "base_uri": "https://localhost:8080/"
        },
        "id": "l6DXVBu1eNKL",
        "outputId": "c391ba32-2cb8-4f46-e1c3-7fd3c81e43c8"
      },
      "execution_count": null,
      "outputs": [
        {
          "output_type": "stream",
          "name": "stdout",
          "text": [
            "ENTER D VALUE: 100,150,180\n",
            "[18, 22, 24]\n"
          ]
        }
      ]
    },
    {
      "cell_type": "markdown",
      "source": [
        "###ANSWER7"
      ],
      "metadata": {
        "id": "_wod24xie0G9"
      }
    },
    {
      "cell_type": "code",
      "source": [
        "list=input(\"enter words\")\n",
        "list=list.split(',')\n",
        "print(sorted(list))\n",
        "#enter wordsESHA,SHARMA,ME\n",
        "#['ESHA', 'ME', 'SHARMA']"
      ],
      "metadata": {
        "id": "SqnBwxg7e2YZ",
        "colab": {
          "base_uri": "https://localhost:8080/",
          "height": 201
        },
        "outputId": "55e29b2c-4008-4a35-aad6-8d7ce6320cf5"
      },
      "execution_count": 127,
      "outputs": [
        {
          "output_type": "error",
          "ename": "TypeError",
          "evalue": "ignored",
          "traceback": [
            "\u001b[0;31m---------------------------------------------------------------------------\u001b[0m",
            "\u001b[0;31mTypeError\u001b[0m                                 Traceback (most recent call last)",
            "\u001b[0;32m<ipython-input-127-25d6de67b57f>\u001b[0m in \u001b[0;36m<module>\u001b[0;34m()\u001b[0m\n\u001b[0;32m----> 1\u001b[0;31m \u001b[0mlist\u001b[0m\u001b[0;34m=\u001b[0m\u001b[0minput\u001b[0m\u001b[0;34m(\u001b[0m\u001b[0;34m\"enter words\"\u001b[0m\u001b[0;34m)\u001b[0m\u001b[0;34m\u001b[0m\u001b[0;34m\u001b[0m\u001b[0m\n\u001b[0m\u001b[1;32m      2\u001b[0m \u001b[0mlist\u001b[0m\u001b[0;34m=\u001b[0m\u001b[0mlist\u001b[0m\u001b[0;34m.\u001b[0m\u001b[0msplit\u001b[0m\u001b[0;34m(\u001b[0m\u001b[0;34m','\u001b[0m\u001b[0;34m)\u001b[0m\u001b[0;34m\u001b[0m\u001b[0;34m\u001b[0m\u001b[0m\n\u001b[1;32m      3\u001b[0m \u001b[0mprint\u001b[0m\u001b[0;34m(\u001b[0m\u001b[0msorted\u001b[0m\u001b[0;34m(\u001b[0m\u001b[0mlist\u001b[0m\u001b[0;34m)\u001b[0m\u001b[0;34m)\u001b[0m\u001b[0;34m\u001b[0m\u001b[0;34m\u001b[0m\u001b[0m\n",
            "\u001b[0;31mTypeError\u001b[0m: 'str' object is not callable"
          ]
        }
      ]
    },
    {
      "cell_type": "markdown",
      "source": [
        "###ANSWER8"
      ],
      "metadata": {
        "id": "VoEEsd6ifNVB"
      }
    },
    {
      "cell_type": "code",
      "source": [
        "l1 = input().split(',')\n",
        "l1.sort()\n",
        "print(\",\".join(l1))"
      ],
      "metadata": {
        "colab": {
          "base_uri": "https://localhost:8080/"
        },
        "id": "vIW1FXmufPu2",
        "outputId": "c81f0e05-6df4-469b-827f-4b002240ac83"
      },
      "execution_count": null,
      "outputs": [
        {
          "output_type": "stream",
          "name": "stdout",
          "text": [
            "hello,without,bad,world\n",
            "bad,hello,without,world\n"
          ]
        }
      ]
    },
    {
      "cell_type": "markdown",
      "source": [
        "###ANSWER9"
      ],
      "metadata": {
        "id": "b9Mk98PHfzoS"
      }
    },
    {
      "cell_type": "code",
      "source": [
        "\n",
        "lines = []\n",
        "while True:\n",
        "    s = input()\n",
        "    if s:\n",
        "        lines.append(s.upper())\n",
        "    else:\n",
        "        break;\n",
        "\n",
        "for sentence in lines:\n",
        "    print(sentence)\n",
        "    #esha is here\n",
        "    #ESHA IS HERE"
      ],
      "metadata": {
        "colab": {
          "base_uri": "https://localhost:8080/",
          "height": 235
        },
        "id": "uwGMivYAf2uG",
        "outputId": "94352e77-3e59-4f84-f4ab-14c945f0ebe0"
      },
      "execution_count": 138,
      "outputs": [
        {
          "output_type": "error",
          "ename": "TypeError",
          "evalue": "ignored",
          "traceback": [
            "\u001b[0;31m---------------------------------------------------------------------------\u001b[0m",
            "\u001b[0;31mTypeError\u001b[0m                                 Traceback (most recent call last)",
            "\u001b[0;32m<ipython-input-138-5458296109bd>\u001b[0m in \u001b[0;36m<module>\u001b[0;34m()\u001b[0m\n\u001b[1;32m      2\u001b[0m \u001b[0mlines\u001b[0m \u001b[0;34m=\u001b[0m \u001b[0;34m[\u001b[0m\u001b[0;34m]\u001b[0m\u001b[0;34m\u001b[0m\u001b[0;34m\u001b[0m\u001b[0m\n\u001b[1;32m      3\u001b[0m \u001b[0;32mwhile\u001b[0m \u001b[0;32mTrue\u001b[0m\u001b[0;34m:\u001b[0m\u001b[0;34m\u001b[0m\u001b[0;34m\u001b[0m\u001b[0m\n\u001b[0;32m----> 4\u001b[0;31m     \u001b[0ms\u001b[0m \u001b[0;34m=\u001b[0m \u001b[0minput\u001b[0m\u001b[0;34m(\u001b[0m\u001b[0;34m)\u001b[0m\u001b[0;34m\u001b[0m\u001b[0;34m\u001b[0m\u001b[0m\n\u001b[0m\u001b[1;32m      5\u001b[0m     \u001b[0;32mif\u001b[0m \u001b[0ms\u001b[0m\u001b[0;34m:\u001b[0m\u001b[0;34m\u001b[0m\u001b[0;34m\u001b[0m\u001b[0m\n\u001b[1;32m      6\u001b[0m         \u001b[0mlines\u001b[0m\u001b[0;34m.\u001b[0m\u001b[0mappend\u001b[0m\u001b[0;34m(\u001b[0m\u001b[0ms\u001b[0m\u001b[0;34m.\u001b[0m\u001b[0mupper\u001b[0m\u001b[0;34m(\u001b[0m\u001b[0;34m)\u001b[0m\u001b[0;34m)\u001b[0m\u001b[0;34m\u001b[0m\u001b[0;34m\u001b[0m\u001b[0m\n",
            "\u001b[0;31mTypeError\u001b[0m: 'str' object is not callable"
          ]
        }
      ]
    },
    {
      "cell_type": "markdown",
      "source": [
        "###ANSWER10"
      ],
      "metadata": {
        "id": "ips0mldnhkMi"
      }
    },
    {
      "cell_type": "code",
      "source": [
        "S = input(\"Type in: \")\n",
        "S_splited = S.split(' ')\n",
        "\n",
        "word_list = []\n",
        "for i in S_splited:\n",
        "    if i not in word_list:\n",
        "        word_list.append(i)\n",
        "    else:\n",
        "        continue\n",
        "word_list.sort()\n",
        "print((' ').join(word_list))"
      ],
      "metadata": {
        "colab": {
          "base_uri": "https://localhost:8080/"
        },
        "id": "WiU6sWlbhrQj",
        "outputId": "6d9acf0e-e61b-47d7-8129-ddff31c3f44e"
      },
      "execution_count": null,
      "outputs": [
        {
          "output_type": "stream",
          "name": "stdout",
          "text": [
            "Type in: zoo is a place for animals\n",
            "a animals for is place zoo\n"
          ]
        }
      ]
    },
    {
      "cell_type": "markdown",
      "source": [
        "###ANSWER11"
      ],
      "metadata": {
        "id": "A5j9lKaxisHQ"
      }
    },
    {
      "cell_type": "code",
      "source": [
        "L = []\n",
        "num = [x for x in input().split(',')]\n",
        "for y in num:\n",
        "    x = int(y, 2)\n",
        "    if not x%5:\n",
        "        L.append(y)\n",
        "print(','.join(L))"
      ],
      "metadata": {
        "colab": {
          "base_uri": "https://localhost:8080/"
        },
        "id": "Lq1WMLW9iueJ",
        "outputId": "3a94d2f3-a1f2-4bf4-e4fa-e9e900e9c4b4"
      },
      "execution_count": null,
      "outputs": [
        {
          "output_type": "stream",
          "name": "stdout",
          "text": [
            "1101,0011,1110,1010\n",
            "1010\n"
          ]
        }
      ]
    },
    {
      "cell_type": "markdown",
      "source": [
        "###ANSWER12"
      ],
      "metadata": {
        "id": "HotzBe6hjvXc"
      }
    },
    {
      "cell_type": "code",
      "source": [
        "L=[]\n",
        "for x in range(1000,3000):\n",
        "    s=str(x)\n",
        "    if (int(s[0]) %2 == 0) and (int(s[1]) %2 == 0) and (int(s[2]) %2 == 0) and (int(s[3]) %2 == 0):\n",
        "        L.append(s)\n",
        "print(L)"
      ],
      "metadata": {
        "colab": {
          "base_uri": "https://localhost:8080/"
        },
        "id": "lAG-1dE-j0NX",
        "outputId": "73b9c3cf-b7ae-425a-be4a-7b50279ddca2"
      },
      "execution_count": null,
      "outputs": [
        {
          "output_type": "stream",
          "name": "stdout",
          "text": [
            "['2000', '2002', '2004', '2006', '2008', '2020', '2022', '2024', '2026', '2028', '2040', '2042', '2044', '2046', '2048', '2060', '2062', '2064', '2066', '2068', '2080', '2082', '2084', '2086', '2088', '2200', '2202', '2204', '2206', '2208', '2220', '2222', '2224', '2226', '2228', '2240', '2242', '2244', '2246', '2248', '2260', '2262', '2264', '2266', '2268', '2280', '2282', '2284', '2286', '2288', '2400', '2402', '2404', '2406', '2408', '2420', '2422', '2424', '2426', '2428', '2440', '2442', '2444', '2446', '2448', '2460', '2462', '2464', '2466', '2468', '2480', '2482', '2484', '2486', '2488', '2600', '2602', '2604', '2606', '2608', '2620', '2622', '2624', '2626', '2628', '2640', '2642', '2644', '2646', '2648', '2660', '2662', '2664', '2666', '2668', '2680', '2682', '2684', '2686', '2688', '2800', '2802', '2804', '2806', '2808', '2820', '2822', '2824', '2826', '2828', '2840', '2842', '2844', '2846', '2848', '2860', '2862', '2864', '2866', '2868', '2880', '2882', '2884', '2886', '2888']\n"
          ]
        }
      ]
    },
    {
      "cell_type": "markdown",
      "source": [
        "###ANSWER13"
      ],
      "metadata": {
        "id": "vWKXXEwcko6Y"
      }
    },
    {
      "cell_type": "code",
      "source": [
        "s = input(\"Enter a string  \")\n",
        "d=0\n",
        "l=0\n",
        "for x in s:\n",
        "    if x.isdigit():\n",
        "        d=d+1\n",
        "    elif x.isalpha():\n",
        "        l=l+1\n",
        "    else:\n",
        "        pass\n",
        "print(\"Letters\", l)\n",
        "print(\"Digits\", d)"
      ],
      "metadata": {
        "colab": {
          "base_uri": "https://localhost:8080/"
        },
        "id": "qssV-l9YksJa",
        "outputId": "6bfd7117-d827-4553-98b2-a96050330b02"
      },
      "execution_count": null,
      "outputs": [
        {
          "output_type": "stream",
          "name": "stdout",
          "text": [
            "Enter a string  Esha 1234\n",
            "Letters 4\n",
            "Digits 4\n"
          ]
        }
      ]
    },
    {
      "cell_type": "markdown",
      "source": [
        "###ANSWER14"
      ],
      "metadata": {
        "id": "FEKpj3fMlP8e"
      }
    },
    {
      "cell_type": "code",
      "source": [
        "s = input(\"Enter a string  \")\n",
        "u=0\n",
        "l=0\n",
        "for x in s:\n",
        "    if x.isupper():\n",
        "        u=u+1\n",
        "    elif x.islower():\n",
        "        l=l+1\n",
        "    else:\n",
        "        pass\n",
        "print(\"uppercase\", u)\n",
        "print(\"lowercase\", l)"
      ],
      "metadata": {
        "id": "voE_AkGYlSaX",
        "colab": {
          "base_uri": "https://localhost:8080/"
        },
        "outputId": "ca6f5f34-b1ba-4d08-8b85-3d7b3c381732"
      },
      "execution_count": null,
      "outputs": [
        {
          "output_type": "stream",
          "name": "stdout",
          "text": [
            "Enter a string  ESha Is Here\n",
            "uppercase 4\n",
            "lowercase 6\n"
          ]
        }
      ]
    },
    {
      "cell_type": "markdown",
      "source": [
        "###ANSWER15"
      ],
      "metadata": {
        "id": "yrCTNxtvmQec"
      }
    },
    {
      "cell_type": "code",
      "source": [
        "a = input(\"ENTER A VALUE  \")\n",
        "n1 = int( \"%s\" % a )\n",
        "n2 = int( \"%s%s\" % (a,a) )\n",
        "n3 = int( \"%s%s%s\" % (a,a,a) )\n",
        "n4 = int( \"%s%s%s%s\" % (a,a,a,a) )\n",
        "\n",
        "print (n1+n2+n3+n4)\n"
      ],
      "metadata": {
        "colab": {
          "base_uri": "https://localhost:8080/"
        },
        "id": "rXAJ9i1cmT29",
        "outputId": "2f193411-b23c-4ad7-df99-933c85227116"
      },
      "execution_count": null,
      "outputs": [
        {
          "output_type": "stream",
          "name": "stdout",
          "text": [
            "9\n",
            "11106\n"
          ]
        }
      ]
    },
    {
      "cell_type": "markdown",
      "source": [
        "###ANSWER17"
      ],
      "metadata": {
        "id": "KM1qnmlGoG8O"
      }
    },
    {
      "cell_type": "code",
      "source": [
        "netAmount = 0\n",
        "while True:\n",
        "  n = input(\"enter the operation and then amount\")\n",
        "  if not n:\n",
        "    break\n",
        "    values = n.split(\" \")\n",
        "    operation = values[0]\n",
        "    amount = int(values[1])\n",
        "    if operation==\"D\":\n",
        "      netAmount+=amount\n",
        "    elif operation==\"W\":\n",
        "      netAmount-=amount\n",
        "    else:\n",
        "      pass\n",
        "print(netAmount)\n",
        "'''enter the operation and then amount300\n",
        "enter the operation and then amount300\n",
        "enter the operation and then amount200\n",
        "enter the operation and then amount100\n",
        "enter the operation and then amount\n",
        "500'''"
      ],
      "metadata": {
        "colab": {
          "base_uri": "https://localhost:8080/",
          "height": 235
        },
        "id": "80cCk3-xoJnD",
        "outputId": "b5ab0f4c-8bb9-49a8-a516-772fe8061837"
      },
      "execution_count": 137,
      "outputs": [
        {
          "output_type": "error",
          "ename": "TypeError",
          "evalue": "ignored",
          "traceback": [
            "\u001b[0;31m---------------------------------------------------------------------------\u001b[0m",
            "\u001b[0;31mTypeError\u001b[0m                                 Traceback (most recent call last)",
            "\u001b[0;32m<ipython-input-137-d83d206565e9>\u001b[0m in \u001b[0;36m<module>\u001b[0;34m()\u001b[0m\n\u001b[1;32m      1\u001b[0m \u001b[0mnetAmount\u001b[0m \u001b[0;34m=\u001b[0m \u001b[0;36m0\u001b[0m\u001b[0;34m\u001b[0m\u001b[0;34m\u001b[0m\u001b[0m\n\u001b[1;32m      2\u001b[0m \u001b[0;32mwhile\u001b[0m \u001b[0;32mTrue\u001b[0m\u001b[0;34m:\u001b[0m\u001b[0;34m\u001b[0m\u001b[0;34m\u001b[0m\u001b[0m\n\u001b[0;32m----> 3\u001b[0;31m   \u001b[0mn\u001b[0m \u001b[0;34m=\u001b[0m \u001b[0minput\u001b[0m\u001b[0;34m(\u001b[0m\u001b[0;34m\"enter the operation and then amount\"\u001b[0m\u001b[0;34m)\u001b[0m\u001b[0;34m\u001b[0m\u001b[0;34m\u001b[0m\u001b[0m\n\u001b[0m\u001b[1;32m      4\u001b[0m   \u001b[0;32mif\u001b[0m \u001b[0;32mnot\u001b[0m \u001b[0mn\u001b[0m\u001b[0;34m:\u001b[0m\u001b[0;34m\u001b[0m\u001b[0;34m\u001b[0m\u001b[0m\n\u001b[1;32m      5\u001b[0m     \u001b[0;32mbreak\u001b[0m\u001b[0;34m\u001b[0m\u001b[0;34m\u001b[0m\u001b[0m\n",
            "\u001b[0;31mTypeError\u001b[0m: 'str' object is not callable"
          ]
        }
      ]
    },
    {
      "cell_type": "markdown",
      "source": [
        "###ANSWER18"
      ],
      "metadata": {
        "id": "zRk0l4fka-Lz"
      }
    },
    {
      "cell_type": "code",
      "source": [
        "import re\n",
        "\n",
        "passwords = input(\"Type in: \")\n",
        "passwords = passwords.split(\",\")\n",
        "\n",
        "accepted_pass = []\n",
        "for i in passwords:\n",
        "    \n",
        "    if len(i) < 6 or len(i) > 12:\n",
        "        continue\n",
        "\n",
        "    elif not re.search(\"([a-z])+\", i):\n",
        "        continue\n",
        "\n",
        "    elif not re.search(\"([A-Z])+\", i):\n",
        "        continue\n",
        "\n",
        "    elif not re.search(\"([0-9])+\", i):\n",
        "        continue\n",
        "\n",
        "    elif not re.search(\"([!@$%^&])+\", i):\n",
        "        continue\n",
        "\n",
        "    else:\n",
        "        accepted_pass.append(i)\n",
        "\n",
        "print((\" \").join(accepted_pass))\n",
        "'''Type in: ABd1234@1,a F1#,2w3E*,2We3345\n",
        "ABd1234@1'''"
      ],
      "metadata": {
        "colab": {
          "base_uri": "https://localhost:8080/",
          "height": 235
        },
        "id": "pB0F2KNBa9q-",
        "outputId": "8f1cc323-46b0-4218-c200-e95ee4470740"
      },
      "execution_count": 132,
      "outputs": [
        {
          "output_type": "error",
          "ename": "TypeError",
          "evalue": "ignored",
          "traceback": [
            "\u001b[0;31m---------------------------------------------------------------------------\u001b[0m",
            "\u001b[0;31mTypeError\u001b[0m                                 Traceback (most recent call last)",
            "\u001b[0;32m<ipython-input-132-1292d4dcefbf>\u001b[0m in \u001b[0;36m<module>\u001b[0;34m()\u001b[0m\n\u001b[1;32m      1\u001b[0m \u001b[0;32mimport\u001b[0m \u001b[0mre\u001b[0m\u001b[0;34m\u001b[0m\u001b[0;34m\u001b[0m\u001b[0m\n\u001b[1;32m      2\u001b[0m \u001b[0;34m\u001b[0m\u001b[0m\n\u001b[0;32m----> 3\u001b[0;31m \u001b[0mpasswords\u001b[0m \u001b[0;34m=\u001b[0m \u001b[0minput\u001b[0m\u001b[0;34m(\u001b[0m\u001b[0;34m\"Type in: \"\u001b[0m\u001b[0;34m)\u001b[0m\u001b[0;34m\u001b[0m\u001b[0;34m\u001b[0m\u001b[0m\n\u001b[0m\u001b[1;32m      4\u001b[0m \u001b[0mpasswords\u001b[0m \u001b[0;34m=\u001b[0m \u001b[0mpasswords\u001b[0m\u001b[0;34m.\u001b[0m\u001b[0msplit\u001b[0m\u001b[0;34m(\u001b[0m\u001b[0;34m\",\"\u001b[0m\u001b[0;34m)\u001b[0m\u001b[0;34m\u001b[0m\u001b[0;34m\u001b[0m\u001b[0m\n\u001b[1;32m      5\u001b[0m \u001b[0;34m\u001b[0m\u001b[0m\n",
            "\u001b[0;31mTypeError\u001b[0m: 'str' object is not callable"
          ]
        }
      ]
    },
    {
      "cell_type": "markdown",
      "source": [
        "###ANSWER19"
      ],
      "metadata": {
        "id": "hBOfCJdebPHC"
      }
    },
    {
      "cell_type": "code",
      "source": [
        "from operator import itemgetter, attrgetter\n",
        "l = []\n",
        "while True:\n",
        "    NUM = input()\n",
        "    if not NUM:\n",
        "        break\n",
        "    l.append(tuple(NUM.split(\",\")))\n",
        "\n",
        "print(sorted(l, key=itemgetter(0,1,2)))\n",
        "'''TOM,70,80\n",
        "ESHA,80,50\n",
        "RAM,40,30\n",
        "\n",
        "[('ESHA', '80', '50'), ('RAM', '40', '30'), ('TOM', '70', '80')]'''\n"
      ],
      "metadata": {
        "colab": {
          "base_uri": "https://localhost:8080/",
          "height": 235
        },
        "id": "HROj8fWsbN8o",
        "outputId": "76a4813c-d328-47d8-9dc6-cf882e63df0f"
      },
      "execution_count": 135,
      "outputs": [
        {
          "output_type": "error",
          "ename": "TypeError",
          "evalue": "ignored",
          "traceback": [
            "\u001b[0;31m---------------------------------------------------------------------------\u001b[0m",
            "\u001b[0;31mTypeError\u001b[0m                                 Traceback (most recent call last)",
            "\u001b[0;32m<ipython-input-135-a7b7c4150ef6>\u001b[0m in \u001b[0;36m<module>\u001b[0;34m()\u001b[0m\n\u001b[1;32m      2\u001b[0m \u001b[0ml\u001b[0m \u001b[0;34m=\u001b[0m \u001b[0;34m[\u001b[0m\u001b[0;34m]\u001b[0m\u001b[0;34m\u001b[0m\u001b[0;34m\u001b[0m\u001b[0m\n\u001b[1;32m      3\u001b[0m \u001b[0;32mwhile\u001b[0m \u001b[0;32mTrue\u001b[0m\u001b[0;34m:\u001b[0m\u001b[0;34m\u001b[0m\u001b[0;34m\u001b[0m\u001b[0m\n\u001b[0;32m----> 4\u001b[0;31m     \u001b[0mNUM\u001b[0m \u001b[0;34m=\u001b[0m \u001b[0minput\u001b[0m\u001b[0;34m(\u001b[0m\u001b[0;34m)\u001b[0m\u001b[0;34m\u001b[0m\u001b[0;34m\u001b[0m\u001b[0m\n\u001b[0m\u001b[1;32m      5\u001b[0m     \u001b[0;32mif\u001b[0m \u001b[0;32mnot\u001b[0m \u001b[0mNUM\u001b[0m\u001b[0;34m:\u001b[0m\u001b[0;34m\u001b[0m\u001b[0;34m\u001b[0m\u001b[0m\n\u001b[1;32m      6\u001b[0m         \u001b[0;32mbreak\u001b[0m\u001b[0;34m\u001b[0m\u001b[0;34m\u001b[0m\u001b[0m\n",
            "\u001b[0;31mTypeError\u001b[0m: 'str' object is not callable"
          ]
        }
      ]
    },
    {
      "cell_type": "markdown",
      "source": [
        "###ANSWER20"
      ],
      "metadata": {
        "id": "bPImHxVwblLj"
      }
    },
    {
      "cell_type": "code",
      "source": [
        "n=int(input(\"Enter number\"))\n",
        "for i in range(0,n):\n",
        "    if i%7==0:\n",
        "        print(i)\n",
        "'''Enter number23\n",
        "0\n",
        "7\n",
        "14\n",
        "21'''"
      ],
      "metadata": {
        "colab": {
          "base_uri": "https://localhost:8080/",
          "height": 235
        },
        "id": "iOwsbhBdbk2V",
        "outputId": "c2e0b950-c618-4626-af5a-a88b0afcffa7"
      },
      "execution_count": 139,
      "outputs": [
        {
          "output_type": "error",
          "ename": "TypeError",
          "evalue": "ignored",
          "traceback": [
            "\u001b[0;31m---------------------------------------------------------------------------\u001b[0m",
            "\u001b[0;31mTypeError\u001b[0m                                 Traceback (most recent call last)",
            "\u001b[0;32m<ipython-input-139-5e5f1e5c60ab>\u001b[0m in \u001b[0;36m<module>\u001b[0;34m()\u001b[0m\n\u001b[0;32m----> 1\u001b[0;31m \u001b[0mn\u001b[0m\u001b[0;34m=\u001b[0m\u001b[0mint\u001b[0m\u001b[0;34m(\u001b[0m\u001b[0minput\u001b[0m\u001b[0;34m(\u001b[0m\u001b[0;34m\"Enter number\"\u001b[0m\u001b[0;34m)\u001b[0m\u001b[0;34m)\u001b[0m\u001b[0;34m\u001b[0m\u001b[0;34m\u001b[0m\u001b[0m\n\u001b[0m\u001b[1;32m      2\u001b[0m \u001b[0;32mfor\u001b[0m \u001b[0mi\u001b[0m \u001b[0;32min\u001b[0m \u001b[0mrange\u001b[0m\u001b[0;34m(\u001b[0m\u001b[0;36m0\u001b[0m\u001b[0;34m,\u001b[0m\u001b[0mn\u001b[0m\u001b[0;34m)\u001b[0m\u001b[0;34m:\u001b[0m\u001b[0;34m\u001b[0m\u001b[0;34m\u001b[0m\u001b[0m\n\u001b[1;32m      3\u001b[0m     \u001b[0;32mif\u001b[0m \u001b[0mi\u001b[0m\u001b[0;34m%\u001b[0m\u001b[0;36m7\u001b[0m\u001b[0;34m==\u001b[0m\u001b[0;36m0\u001b[0m\u001b[0;34m:\u001b[0m\u001b[0;34m\u001b[0m\u001b[0;34m\u001b[0m\u001b[0m\n\u001b[1;32m      4\u001b[0m         \u001b[0mprint\u001b[0m\u001b[0;34m(\u001b[0m\u001b[0mi\u001b[0m\u001b[0;34m)\u001b[0m\u001b[0;34m\u001b[0m\u001b[0;34m\u001b[0m\u001b[0m\n\u001b[1;32m      5\u001b[0m '''Enter number23\n",
            "\u001b[0;31mTypeError\u001b[0m: 'str' object is not callable"
          ]
        }
      ]
    },
    {
      "cell_type": "markdown",
      "source": [
        "###ANSWER37"
      ],
      "metadata": {
        "id": "AO49lB-gFm3v"
      }
    },
    {
      "cell_type": "code",
      "source": [
        "def printTuple():\n",
        "\tli=list()\n",
        "\tfor i in range(1,21):\n",
        "\t\t  li.append(i**2)\n",
        "\tprintTuple(li)\n",
        "\n",
        "printTuple()"
      ],
      "metadata": {
        "colab": {
          "base_uri": "https://localhost:8080/",
          "height": 322
        },
        "id": "dPIKzQI3FmNE",
        "outputId": "889c0729-75ba-42fc-a79c-ab29acc44109"
      },
      "execution_count": null,
      "outputs": [
        {
          "output_type": "error",
          "ename": "TypeError",
          "evalue": "ignored",
          "traceback": [
            "\u001b[0;31m---------------------------------------------------------------------------\u001b[0m",
            "\u001b[0;31mTypeError\u001b[0m                                 Traceback (most recent call last)",
            "\u001b[0;32m<ipython-input-84-433c0b020073>\u001b[0m in \u001b[0;36m<module>\u001b[0;34m()\u001b[0m\n\u001b[1;32m      5\u001b[0m         \u001b[0mprintTuple\u001b[0m\u001b[0;34m(\u001b[0m\u001b[0mli\u001b[0m\u001b[0;34m)\u001b[0m\u001b[0;34m\u001b[0m\u001b[0;34m\u001b[0m\u001b[0m\n\u001b[1;32m      6\u001b[0m \u001b[0;34m\u001b[0m\u001b[0m\n\u001b[0;32m----> 7\u001b[0;31m \u001b[0mprintTuple\u001b[0m\u001b[0;34m(\u001b[0m\u001b[0;34m)\u001b[0m\u001b[0;34m\u001b[0m\u001b[0;34m\u001b[0m\u001b[0m\n\u001b[0m",
            "\u001b[0;32m<ipython-input-84-433c0b020073>\u001b[0m in \u001b[0;36mprintTuple\u001b[0;34m()\u001b[0m\n\u001b[1;32m      1\u001b[0m \u001b[0;32mdef\u001b[0m \u001b[0mprintTuple\u001b[0m\u001b[0;34m(\u001b[0m\u001b[0;34m)\u001b[0m\u001b[0;34m:\u001b[0m\u001b[0;34m\u001b[0m\u001b[0;34m\u001b[0m\u001b[0m\n\u001b[0;32m----> 2\u001b[0;31m         \u001b[0mli\u001b[0m\u001b[0;34m=\u001b[0m\u001b[0mlist\u001b[0m\u001b[0;34m(\u001b[0m\u001b[0;34m)\u001b[0m\u001b[0;34m\u001b[0m\u001b[0;34m\u001b[0m\u001b[0m\n\u001b[0m\u001b[1;32m      3\u001b[0m         \u001b[0;32mfor\u001b[0m \u001b[0mi\u001b[0m \u001b[0;32min\u001b[0m \u001b[0mrange\u001b[0m\u001b[0;34m(\u001b[0m\u001b[0;36m1\u001b[0m\u001b[0;34m,\u001b[0m\u001b[0;36m21\u001b[0m\u001b[0;34m)\u001b[0m\u001b[0;34m:\u001b[0m\u001b[0;34m\u001b[0m\u001b[0;34m\u001b[0m\u001b[0m\n\u001b[1;32m      4\u001b[0m                   \u001b[0mli\u001b[0m\u001b[0;34m.\u001b[0m\u001b[0mappend\u001b[0m\u001b[0;34m(\u001b[0m\u001b[0mi\u001b[0m\u001b[0;34m**\u001b[0m\u001b[0;36m2\u001b[0m\u001b[0;34m)\u001b[0m\u001b[0;34m\u001b[0m\u001b[0;34m\u001b[0m\u001b[0m\n\u001b[1;32m      5\u001b[0m         \u001b[0mprintTuple\u001b[0m\u001b[0;34m(\u001b[0m\u001b[0mli\u001b[0m\u001b[0;34m)\u001b[0m\u001b[0;34m\u001b[0m\u001b[0;34m\u001b[0m\u001b[0m\n",
            "\u001b[0;31mTypeError\u001b[0m: 'set' object is not callable"
          ]
        }
      ]
    },
    {
      "cell_type": "markdown",
      "source": [
        "###ANSWER41"
      ],
      "metadata": {
        "id": "AHRyLL9uMF6f"
      }
    },
    {
      "cell_type": "code",
      "source": [
        "def even(x):\n",
        "    return x%2==0\n",
        "\n",
        "def square(x):\n",
        "    return x*x\n",
        "\n",
        "list1 = [1,2,3,4,5,6,7,8,9,10]\n",
        "list1 = map(square,filter(even,list1))\n",
        "print(list(list1))\n",
        "#[4, 16, 36, 64, 100]"
      ],
      "metadata": {
        "colab": {
          "base_uri": "https://localhost:8080/",
          "height": 201
        },
        "id": "NDqRahFOMFf0",
        "outputId": "0ec8fa08-51cb-4b79-8990-4919a4df5cbd"
      },
      "execution_count": 87,
      "outputs": [
        {
          "output_type": "error",
          "ename": "TypeError",
          "evalue": "ignored",
          "traceback": [
            "\u001b[0;31m---------------------------------------------------------------------------\u001b[0m",
            "\u001b[0;31mTypeError\u001b[0m                                 Traceback (most recent call last)",
            "\u001b[0;32m<ipython-input-87-9b12a1e257b5>\u001b[0m in \u001b[0;36m<module>\u001b[0;34m()\u001b[0m\n\u001b[1;32m      7\u001b[0m \u001b[0mlist1\u001b[0m \u001b[0;34m=\u001b[0m \u001b[0;34m[\u001b[0m\u001b[0;36m1\u001b[0m\u001b[0;34m,\u001b[0m\u001b[0;36m2\u001b[0m\u001b[0;34m,\u001b[0m\u001b[0;36m3\u001b[0m\u001b[0;34m,\u001b[0m\u001b[0;36m4\u001b[0m\u001b[0;34m,\u001b[0m\u001b[0;36m5\u001b[0m\u001b[0;34m,\u001b[0m\u001b[0;36m6\u001b[0m\u001b[0;34m,\u001b[0m\u001b[0;36m7\u001b[0m\u001b[0;34m,\u001b[0m\u001b[0;36m8\u001b[0m\u001b[0;34m,\u001b[0m\u001b[0;36m9\u001b[0m\u001b[0;34m,\u001b[0m\u001b[0;36m10\u001b[0m\u001b[0;34m]\u001b[0m\u001b[0;34m\u001b[0m\u001b[0;34m\u001b[0m\u001b[0m\n\u001b[1;32m      8\u001b[0m \u001b[0mlist1\u001b[0m \u001b[0;34m=\u001b[0m \u001b[0mmap\u001b[0m\u001b[0;34m(\u001b[0m\u001b[0msquare\u001b[0m\u001b[0;34m,\u001b[0m\u001b[0mfilter\u001b[0m\u001b[0;34m(\u001b[0m\u001b[0meven\u001b[0m\u001b[0;34m,\u001b[0m\u001b[0mlist1\u001b[0m\u001b[0;34m)\u001b[0m\u001b[0;34m)\u001b[0m\u001b[0;34m\u001b[0m\u001b[0;34m\u001b[0m\u001b[0m\n\u001b[0;32m----> 9\u001b[0;31m \u001b[0mprint\u001b[0m\u001b[0;34m(\u001b[0m\u001b[0mlist\u001b[0m\u001b[0;34m(\u001b[0m\u001b[0mlist1\u001b[0m\u001b[0;34m)\u001b[0m\u001b[0;34m)\u001b[0m\u001b[0;34m\u001b[0m\u001b[0;34m\u001b[0m\u001b[0m\n\u001b[0m",
            "\u001b[0;31mTypeError\u001b[0m: 'set' object is not callable"
          ]
        }
      ]
    },
    {
      "cell_type": "markdown",
      "source": [
        "###ANSWER42"
      ],
      "metadata": {
        "id": "779pyzeTMUSP"
      }
    },
    {
      "cell_type": "code",
      "source": [
        "def even(x):\n",
        "    return x%2==0\n",
        "num = filter(even, range(1,21))\n",
        "print(list(num))\n",
        "#[2, 4, 6, 8, 10, 12, 14, 16, 18, 20]"
      ],
      "metadata": {
        "colab": {
          "base_uri": "https://localhost:8080/",
          "height": 201
        },
        "id": "K8-ibeoVMT_g",
        "outputId": "619eaab4-da5f-4d9f-ea9b-537f29841064"
      },
      "execution_count": null,
      "outputs": [
        {
          "output_type": "error",
          "ename": "TypeError",
          "evalue": "ignored",
          "traceback": [
            "\u001b[0;31m---------------------------------------------------------------------------\u001b[0m",
            "\u001b[0;31mTypeError\u001b[0m                                 Traceback (most recent call last)",
            "\u001b[0;32m<ipython-input-86-d99638228b90>\u001b[0m in \u001b[0;36m<module>\u001b[0;34m()\u001b[0m\n\u001b[1;32m      2\u001b[0m     \u001b[0;32mreturn\u001b[0m \u001b[0mx\u001b[0m\u001b[0;34m%\u001b[0m\u001b[0;36m2\u001b[0m\u001b[0;34m==\u001b[0m\u001b[0;36m0\u001b[0m\u001b[0;34m\u001b[0m\u001b[0;34m\u001b[0m\u001b[0m\n\u001b[1;32m      3\u001b[0m \u001b[0mnum\u001b[0m \u001b[0;34m=\u001b[0m \u001b[0mfilter\u001b[0m\u001b[0;34m(\u001b[0m\u001b[0meven\u001b[0m\u001b[0;34m,\u001b[0m \u001b[0mrange\u001b[0m\u001b[0;34m(\u001b[0m\u001b[0;36m1\u001b[0m\u001b[0;34m,\u001b[0m\u001b[0;36m21\u001b[0m\u001b[0;34m)\u001b[0m\u001b[0;34m)\u001b[0m\u001b[0;34m\u001b[0m\u001b[0;34m\u001b[0m\u001b[0m\n\u001b[0;32m----> 4\u001b[0;31m \u001b[0mprint\u001b[0m\u001b[0;34m(\u001b[0m\u001b[0mlist\u001b[0m\u001b[0;34m(\u001b[0m\u001b[0mnum\u001b[0m\u001b[0;34m)\u001b[0m\u001b[0;34m)\u001b[0m\u001b[0;34m\u001b[0m\u001b[0;34m\u001b[0m\u001b[0m\n\u001b[0m",
            "\u001b[0;31mTypeError\u001b[0m: 'set' object is not callable"
          ]
        }
      ]
    },
    {
      "cell_type": "markdown",
      "source": [
        "###ANSWER43"
      ],
      "metadata": {
        "id": "fikLqiV7M3x6"
      }
    },
    {
      "cell_type": "code",
      "source": [
        "def sqr(x):\n",
        "    return x*x\n",
        "\n",
        "squaredNumbers = list(map(sqr, range(1,21)))\n",
        "print (squaredNumbers)\n",
        "#[1, 4, 9, 16, 25, 36, 49, 64, 81, 100, 121, 144, 169, 196, 225, 256, 289, 324, 361, 400]"
      ],
      "metadata": {
        "colab": {
          "base_uri": "https://localhost:8080/",
          "height": 218
        },
        "id": "pV8_m9dRM3f-",
        "outputId": "4b8c5c71-c404-4ee5-8244-503e1c9056f1"
      },
      "execution_count": 88,
      "outputs": [
        {
          "output_type": "error",
          "ename": "TypeError",
          "evalue": "ignored",
          "traceback": [
            "\u001b[0;31m---------------------------------------------------------------------------\u001b[0m",
            "\u001b[0;31mTypeError\u001b[0m                                 Traceback (most recent call last)",
            "\u001b[0;32m<ipython-input-88-bf1dfc1bceb0>\u001b[0m in \u001b[0;36m<module>\u001b[0;34m()\u001b[0m\n\u001b[1;32m      2\u001b[0m     \u001b[0;32mreturn\u001b[0m \u001b[0mx\u001b[0m\u001b[0;34m*\u001b[0m\u001b[0mx\u001b[0m\u001b[0;34m\u001b[0m\u001b[0;34m\u001b[0m\u001b[0m\n\u001b[1;32m      3\u001b[0m \u001b[0;34m\u001b[0m\u001b[0m\n\u001b[0;32m----> 4\u001b[0;31m \u001b[0msquaredNumbers\u001b[0m \u001b[0;34m=\u001b[0m \u001b[0mlist\u001b[0m\u001b[0;34m(\u001b[0m\u001b[0mmap\u001b[0m\u001b[0;34m(\u001b[0m\u001b[0msqr\u001b[0m\u001b[0;34m,\u001b[0m \u001b[0mrange\u001b[0m\u001b[0;34m(\u001b[0m\u001b[0;36m1\u001b[0m\u001b[0;34m,\u001b[0m\u001b[0;36m21\u001b[0m\u001b[0;34m)\u001b[0m\u001b[0;34m)\u001b[0m\u001b[0;34m)\u001b[0m\u001b[0;34m\u001b[0m\u001b[0;34m\u001b[0m\u001b[0m\n\u001b[0m\u001b[1;32m      5\u001b[0m \u001b[0mprint\u001b[0m \u001b[0;34m(\u001b[0m\u001b[0msquaredNumbers\u001b[0m\u001b[0;34m)\u001b[0m\u001b[0;34m\u001b[0m\u001b[0;34m\u001b[0m\u001b[0m\n",
            "\u001b[0;31mTypeError\u001b[0m: 'set' object is not callable"
          ]
        }
      ]
    },
    {
      "cell_type": "markdown",
      "source": [
        "###ANSWER44"
      ],
      "metadata": {
        "id": "6VixYTvvNLDO"
      }
    },
    {
      "cell_type": "code",
      "source": [
        "class American():\n",
        "    @staticmethod\n",
        "    def printNationality():\n",
        "        print(\"this is method American\")\n",
        "\n",
        "american = American()\n",
        "american.printNationality()  "
      ],
      "metadata": {
        "colab": {
          "base_uri": "https://localhost:8080/"
        },
        "id": "82w1EmjeNKpr",
        "outputId": "2dc12ff7-af53-4749-e465-6349806fc07c"
      },
      "execution_count": 89,
      "outputs": [
        {
          "output_type": "stream",
          "name": "stdout",
          "text": [
            "this is method American\n"
          ]
        }
      ]
    },
    {
      "cell_type": "markdown",
      "source": [
        "###ANSWER45"
      ],
      "metadata": {
        "id": "fVjIW1QMNbI8"
      }
    },
    {
      "cell_type": "code",
      "source": [
        "class American():\n",
        "    pass\n",
        "\n",
        "class NewYorker(American):\n",
        "    pass\n",
        "\n",
        "american = American()\n",
        "newyorker = NewYorker()\n",
        "\n",
        "print(american)\n",
        "print(newyorker)"
      ],
      "metadata": {
        "colab": {
          "base_uri": "https://localhost:8080/"
        },
        "id": "_8TGH_uGNamB",
        "outputId": "2ef2adb3-0195-4058-d853-afd88556fc01"
      },
      "execution_count": 90,
      "outputs": [
        {
          "output_type": "stream",
          "name": "stdout",
          "text": [
            "<__main__.American object at 0x7fd64e390810>\n",
            "<__main__.NewYorker object at 0x7fd64e3906d0>\n"
          ]
        }
      ]
    },
    {
      "cell_type": "markdown",
      "source": [
        "###ANSWER46"
      ],
      "metadata": {
        "id": "Soyweew1Ni09"
      }
    },
    {
      "cell_type": "code",
      "source": [
        "class Circle():\n",
        "    def __init__(self,r):\n",
        "        self.radius = r\n",
        "\n",
        "    def area(self):\n",
        "        return 3.141*(self.radius**2)\n",
        "\n",
        "\n",
        "circle = Circle(7)\n",
        "print(circle.area())"
      ],
      "metadata": {
        "colab": {
          "base_uri": "https://localhost:8080/"
        },
        "id": "GCAthE1TNibd",
        "outputId": "5b6fc233-e015-4e3c-dcc9-a7fde415f44f"
      },
      "execution_count": 91,
      "outputs": [
        {
          "output_type": "stream",
          "name": "stdout",
          "text": [
            "153.909\n"
          ]
        }
      ]
    },
    {
      "cell_type": "markdown",
      "source": [
        "###ANSWER47"
      ],
      "metadata": {
        "id": "xofyhP2JNscm"
      }
    },
    {
      "cell_type": "code",
      "source": [
        "class Shape():\n",
        "    def __init__(self):\n",
        "        pass\n",
        "\n",
        "    def area(self):\n",
        "        return 0\n",
        "\n",
        "class Square(Shape):\n",
        "    def __init__(self,length = 0):\n",
        "        Shape.__init__(self)\n",
        "        self.length = length\n",
        "\n",
        "    def area(self):\n",
        "        return self.length*self.length\n",
        "\n",
        "Asqr = Square(8)\n",
        "print(Asqr.area())      \n",
        "\n",
        "print(Square().area())"
      ],
      "metadata": {
        "colab": {
          "base_uri": "https://localhost:8080/"
        },
        "id": "_JFo-3c4Nr0c",
        "outputId": "8ae724d6-5c73-4a1c-860e-318b302209ea"
      },
      "execution_count": 92,
      "outputs": [
        {
          "output_type": "stream",
          "name": "stdout",
          "text": [
            "64\n",
            "0\n"
          ]
        }
      ]
    },
    {
      "cell_type": "markdown",
      "source": [
        "###ANSWER48"
      ],
      "metadata": {
        "id": "Zj_CLYh_N3BK"
      }
    },
    {
      "cell_type": "code",
      "source": [
        "class Circle():\n",
        "    def __init__(self,r):\n",
        "        self.radius = r\n",
        "\n",
        "    def area(self):\n",
        "        return 3.14*(self.radius**2)\n",
        "\n",
        "\n",
        "circle = Circle(8)\n",
        "print(circle.area())"
      ],
      "metadata": {
        "colab": {
          "base_uri": "https://localhost:8080/"
        },
        "id": "b-9ii3LQN2ru",
        "outputId": "3d0c9f61-8fb1-49a5-a4c1-05046f9bdef2"
      },
      "execution_count": 93,
      "outputs": [
        {
          "output_type": "stream",
          "name": "stdout",
          "text": [
            "200.96\n"
          ]
        }
      ]
    },
    {
      "cell_type": "markdown",
      "source": [
        "###ANSWER49"
      ],
      "metadata": {
        "id": "bXsuu5q_N_9J"
      }
    },
    {
      "cell_type": "code",
      "source": [
        "def throws():\n",
        "    return 5/0\n",
        "\n",
        "try:\n",
        "    throws()\n",
        "except ZeroDivisionError:\n",
        "    print (\"division by zero error\")\n",
        "except Exception as err:\n",
        "    print (\"Caught an exception\")\n",
        "finally:\n",
        "    print (\"finally block\")"
      ],
      "metadata": {
        "colab": {
          "base_uri": "https://localhost:8080/"
        },
        "id": "YUBZpHhzN_qR",
        "outputId": "8f382fa4-977d-4ab7-81fd-3b4d0584e072"
      },
      "execution_count": 94,
      "outputs": [
        {
          "output_type": "stream",
          "name": "stdout",
          "text": [
            "division by zero error\n",
            "finally block\n"
          ]
        }
      ]
    },
    {
      "cell_type": "markdown",
      "source": [
        "###ANSWER51"
      ],
      "metadata": {
        "id": "D1lvFQKIOKEi"
      }
    },
    {
      "cell_type": "code",
      "source": [
        "class MyError(Exception):\n",
        "    \"\"\"My own exception class\n",
        "\n",
        "    \"\"\"\n",
        "\n",
        "    def __init__(self, msg):\n",
        "        self.msg = msg\n",
        "\n",
        "error = MyError(\"something wrong\")"
      ],
      "metadata": {
        "id": "kv3vZQJcOJwC"
      },
      "execution_count": 96,
      "outputs": []
    },
    {
      "cell_type": "markdown",
      "source": [
        "###ANSWER52"
      ],
      "metadata": {
        "id": "J4IwhlhxOWfR"
      }
    },
    {
      "cell_type": "code",
      "source": [
        "import re\n",
        "\n",
        "email = \"john@google.com\"\n",
        "pattern = \"(\\w+)@\\w+.com\"\n",
        "ans = re.findall(pattern,email)\n",
        "print(ans)"
      ],
      "metadata": {
        "colab": {
          "base_uri": "https://localhost:8080/"
        },
        "id": "jdlbz-4sOWK9",
        "outputId": "f78a80b7-4162-45e1-96f6-7b8928c8b3a2"
      },
      "execution_count": 97,
      "outputs": [
        {
          "output_type": "stream",
          "name": "stdout",
          "text": [
            "['john']\n"
          ]
        }
      ]
    },
    {
      "cell_type": "markdown",
      "source": [
        "###ANSWER53"
      ],
      "metadata": {
        "id": "dFsRgb8DOe-t"
      }
    },
    {
      "cell_type": "code",
      "source": [
        "import re\n",
        "\n",
        "email = \"john@google.com \"\n",
        "pattern = \"\\w+@(\\w+).com\"\n",
        "ans = re.findall(pattern,email)\n",
        "print(ans)"
      ],
      "metadata": {
        "colab": {
          "base_uri": "https://localhost:8080/"
        },
        "id": "3-3xbRPcOeqT",
        "outputId": "fcf0f910-338c-41ed-ed8e-3a0f9b83a62c"
      },
      "execution_count": 98,
      "outputs": [
        {
          "output_type": "stream",
          "name": "stdout",
          "text": [
            "['google']\n"
          ]
        }
      ]
    },
    {
      "cell_type": "markdown",
      "source": [
        "###ANSWER54"
      ],
      "metadata": {
        "id": "0vet-NynOoDu"
      }
    },
    {
      "cell_type": "code",
      "source": [
        "sentence = input().split()\n",
        "ans = [sentence for sentence in sentence if sentence.isdigit()] \n",
        "print(ans)"
      ],
      "metadata": {
        "colab": {
          "base_uri": "https://localhost:8080/"
        },
        "id": "ZF3SdTXtOnrL",
        "outputId": "c54abc8f-bd6e-46e8-a747-bb75505e2d3b"
      },
      "execution_count": 99,
      "outputs": [
        {
          "output_type": "stream",
          "name": "stdout",
          "text": [
            "2 DOG 3CAT\n",
            "['2']\n"
          ]
        }
      ]
    },
    {
      "cell_type": "markdown",
      "source": [
        "###ANSWER55"
      ],
      "metadata": {
        "id": "UURSqAivO19i"
      }
    },
    {
      "cell_type": "code",
      "source": [
        "unicodeString = u\"ESHAAAAAA!\"\n",
        "print (unicodeString)"
      ],
      "metadata": {
        "colab": {
          "base_uri": "https://localhost:8080/"
        },
        "id": "yqtPZCQcO1t6",
        "outputId": "2df24446-c1e4-4fc6-a116-441d60cccc45"
      },
      "execution_count": 100,
      "outputs": [
        {
          "output_type": "stream",
          "name": "stdout",
          "text": [
            "ESHAAAAAA!\n"
          ]
        }
      ]
    },
    {
      "cell_type": "markdown",
      "source": [
        "###ANSWER56"
      ],
      "metadata": {
        "id": "rodYl2MWPBiP"
      }
    },
    {
      "cell_type": "code",
      "source": [
        "sen = input()\n",
        "out = sen.encode('utf-8')\n",
        "print(out)"
      ],
      "metadata": {
        "colab": {
          "base_uri": "https://localhost:8080/"
        },
        "id": "nBiojVk0PBPz",
        "outputId": "ea4376b3-acae-441e-dcd4-f21e8ccd806a"
      },
      "execution_count": 101,
      "outputs": [
        {
          "output_type": "stream",
          "name": "stdout",
          "text": [
            "esha\n",
            "b'esha'\n"
          ]
        }
      ]
    },
    {
      "cell_type": "markdown",
      "source": [
        "###ANSWER57"
      ],
      "metadata": {
        "id": "rwnBUFmLPMbN"
      }
    },
    {
      "cell_type": "code",
      "source": [
        "# -*- coding: utf-8 -*-"
      ],
      "metadata": {
        "id": "AiSiJpNuPMA3"
      },
      "execution_count": 102,
      "outputs": []
    },
    {
      "cell_type": "markdown",
      "source": [
        "###ANSWER58"
      ],
      "metadata": {
        "id": "K9e-mmZ1PXhd"
      }
    },
    {
      "cell_type": "code",
      "source": [
        "num = int(input())\n",
        "sum = 0\n",
        "for i in range(1, num+1):\n",
        "    sum+= i/(i+1)\n",
        "print(round(sum, 2))"
      ],
      "metadata": {
        "colab": {
          "base_uri": "https://localhost:8080/"
        },
        "id": "LY6Y_2wZPXAx",
        "outputId": "b719f8c5-75b8-4b35-b283-0d67b1fa1c46"
      },
      "execution_count": 103,
      "outputs": [
        {
          "output_type": "stream",
          "name": "stdout",
          "text": [
            "5\n",
            "3.55\n"
          ]
        }
      ]
    },
    {
      "cell_type": "markdown",
      "source": [
        "###ANSWER59"
      ],
      "metadata": {
        "id": "JdaG-x0PPjgT"
      }
    },
    {
      "cell_type": "code",
      "source": [
        "def fun(n):\n",
        "    if n == 0:\n",
        "        return 0\n",
        "    return fun(n-1) + 100\n",
        "\n",
        "n = int(input())\n",
        "print(fun(n))"
      ],
      "metadata": {
        "colab": {
          "base_uri": "https://localhost:8080/"
        },
        "id": "UEaqkcBiPjRC",
        "outputId": "e14260f4-7f47-461f-a971-91a3f78fdc2b"
      },
      "execution_count": 104,
      "outputs": [
        {
          "output_type": "stream",
          "name": "stdout",
          "text": [
            "5\n",
            "500\n"
          ]
        }
      ]
    },
    {
      "cell_type": "markdown",
      "source": [
        "###ANSWER60"
      ],
      "metadata": {
        "id": "hhJABaa-PtzG"
      }
    },
    {
      "cell_type": "code",
      "source": [
        "def fun(n):\n",
        "    if n < 2:\n",
        "        return n\n",
        "    return fun(n-1) + fun(n-2)\n",
        "\n",
        "n = int(input())\n",
        "print(fun(n))"
      ],
      "metadata": {
        "colab": {
          "base_uri": "https://localhost:8080/"
        },
        "id": "oU9Bn17UPtWd",
        "outputId": "04d37d07-b040-4c3d-9377-342bdb6e574f"
      },
      "execution_count": 105,
      "outputs": [
        {
          "output_type": "stream",
          "name": "stdout",
          "text": [
            "7\n",
            "13\n"
          ]
        }
      ]
    },
    {
      "cell_type": "markdown",
      "source": [
        "###ANSWER61"
      ],
      "metadata": {
        "id": "CGC86kQkVNiv"
      }
    },
    {
      "cell_type": "code",
      "source": [
        "def fibo(n):\n",
        "    if n < 2:\n",
        "      return n\n",
        "    else:\n",
        "\t    return fibo(n-1)+fibo(n-2)\n",
        "\n",
        "def print_fiblist(n):\n",
        "    fib_list = [(str(fibo(i))) for i in range(0, n+1)]\n",
        "    return print(\",\".join(fib_list))\n",
        "n = int(input())\n",
        "print_fiblist(n)\n",
        "#7\n",
        "#0,1,1,2,3,5,8,13"
      ],
      "metadata": {
        "colab": {
          "base_uri": "https://localhost:8080/",
          "height": 363
        },
        "id": "RLl4VTBjVNJu",
        "outputId": "75a27d10-585e-4fa3-9dd5-71497f2b4369"
      },
      "execution_count": 106,
      "outputs": [
        {
          "name": "stdout",
          "output_type": "stream",
          "text": [
            "7\n"
          ]
        },
        {
          "output_type": "error",
          "ename": "TypeError",
          "evalue": "ignored",
          "traceback": [
            "\u001b[0;31m---------------------------------------------------------------------------\u001b[0m",
            "\u001b[0;31mTypeError\u001b[0m                                 Traceback (most recent call last)",
            "\u001b[0;32m<ipython-input-106-349e2641b946>\u001b[0m in \u001b[0;36m<module>\u001b[0;34m()\u001b[0m\n\u001b[1;32m      9\u001b[0m     \u001b[0;32mreturn\u001b[0m \u001b[0mprint\u001b[0m\u001b[0;34m(\u001b[0m\u001b[0;34m\",\"\u001b[0m\u001b[0;34m.\u001b[0m\u001b[0mjoin\u001b[0m\u001b[0;34m(\u001b[0m\u001b[0mfib_list\u001b[0m\u001b[0;34m)\u001b[0m\u001b[0;34m)\u001b[0m\u001b[0;34m\u001b[0m\u001b[0;34m\u001b[0m\u001b[0m\n\u001b[1;32m     10\u001b[0m \u001b[0mn\u001b[0m \u001b[0;34m=\u001b[0m \u001b[0mint\u001b[0m\u001b[0;34m(\u001b[0m\u001b[0minput\u001b[0m\u001b[0;34m(\u001b[0m\u001b[0;34m)\u001b[0m\u001b[0;34m)\u001b[0m\u001b[0;34m\u001b[0m\u001b[0;34m\u001b[0m\u001b[0m\n\u001b[0;32m---> 11\u001b[0;31m \u001b[0mprint_fiblist\u001b[0m\u001b[0;34m(\u001b[0m\u001b[0mn\u001b[0m\u001b[0;34m)\u001b[0m\u001b[0;34m\u001b[0m\u001b[0;34m\u001b[0m\u001b[0m\n\u001b[0m",
            "\u001b[0;32m<ipython-input-106-349e2641b946>\u001b[0m in \u001b[0;36mprint_fiblist\u001b[0;34m(n)\u001b[0m\n\u001b[1;32m      6\u001b[0m \u001b[0;34m\u001b[0m\u001b[0m\n\u001b[1;32m      7\u001b[0m \u001b[0;32mdef\u001b[0m \u001b[0mprint_fiblist\u001b[0m\u001b[0;34m(\u001b[0m\u001b[0mn\u001b[0m\u001b[0;34m)\u001b[0m\u001b[0;34m:\u001b[0m\u001b[0;34m\u001b[0m\u001b[0;34m\u001b[0m\u001b[0m\n\u001b[0;32m----> 8\u001b[0;31m     \u001b[0mfib_list\u001b[0m \u001b[0;34m=\u001b[0m \u001b[0;34m[\u001b[0m\u001b[0;34m(\u001b[0m\u001b[0mstr\u001b[0m\u001b[0;34m(\u001b[0m\u001b[0mfibo\u001b[0m\u001b[0;34m(\u001b[0m\u001b[0mi\u001b[0m\u001b[0;34m)\u001b[0m\u001b[0;34m)\u001b[0m\u001b[0;34m)\u001b[0m \u001b[0;32mfor\u001b[0m \u001b[0mi\u001b[0m \u001b[0;32min\u001b[0m \u001b[0mrange\u001b[0m\u001b[0;34m(\u001b[0m\u001b[0;36m0\u001b[0m\u001b[0;34m,\u001b[0m \u001b[0mn\u001b[0m\u001b[0;34m+\u001b[0m\u001b[0;36m1\u001b[0m\u001b[0;34m)\u001b[0m\u001b[0;34m]\u001b[0m\u001b[0;34m\u001b[0m\u001b[0;34m\u001b[0m\u001b[0m\n\u001b[0m\u001b[1;32m      9\u001b[0m     \u001b[0;32mreturn\u001b[0m \u001b[0mprint\u001b[0m\u001b[0;34m(\u001b[0m\u001b[0;34m\",\"\u001b[0m\u001b[0;34m.\u001b[0m\u001b[0mjoin\u001b[0m\u001b[0;34m(\u001b[0m\u001b[0mfib_list\u001b[0m\u001b[0;34m)\u001b[0m\u001b[0;34m)\u001b[0m\u001b[0;34m\u001b[0m\u001b[0;34m\u001b[0m\u001b[0m\n\u001b[1;32m     10\u001b[0m \u001b[0mn\u001b[0m \u001b[0;34m=\u001b[0m \u001b[0mint\u001b[0m\u001b[0;34m(\u001b[0m\u001b[0minput\u001b[0m\u001b[0;34m(\u001b[0m\u001b[0;34m)\u001b[0m\u001b[0;34m)\u001b[0m\u001b[0;34m\u001b[0m\u001b[0;34m\u001b[0m\u001b[0m\n",
            "\u001b[0;32m<ipython-input-106-349e2641b946>\u001b[0m in \u001b[0;36m<listcomp>\u001b[0;34m(.0)\u001b[0m\n\u001b[1;32m      6\u001b[0m \u001b[0;34m\u001b[0m\u001b[0m\n\u001b[1;32m      7\u001b[0m \u001b[0;32mdef\u001b[0m \u001b[0mprint_fiblist\u001b[0m\u001b[0;34m(\u001b[0m\u001b[0mn\u001b[0m\u001b[0;34m)\u001b[0m\u001b[0;34m:\u001b[0m\u001b[0;34m\u001b[0m\u001b[0;34m\u001b[0m\u001b[0m\n\u001b[0;32m----> 8\u001b[0;31m     \u001b[0mfib_list\u001b[0m \u001b[0;34m=\u001b[0m \u001b[0;34m[\u001b[0m\u001b[0;34m(\u001b[0m\u001b[0mstr\u001b[0m\u001b[0;34m(\u001b[0m\u001b[0mfibo\u001b[0m\u001b[0;34m(\u001b[0m\u001b[0mi\u001b[0m\u001b[0;34m)\u001b[0m\u001b[0;34m)\u001b[0m\u001b[0;34m)\u001b[0m \u001b[0;32mfor\u001b[0m \u001b[0mi\u001b[0m \u001b[0;32min\u001b[0m \u001b[0mrange\u001b[0m\u001b[0;34m(\u001b[0m\u001b[0;36m0\u001b[0m\u001b[0;34m,\u001b[0m \u001b[0mn\u001b[0m\u001b[0;34m+\u001b[0m\u001b[0;36m1\u001b[0m\u001b[0;34m)\u001b[0m\u001b[0;34m]\u001b[0m\u001b[0;34m\u001b[0m\u001b[0;34m\u001b[0m\u001b[0m\n\u001b[0m\u001b[1;32m      9\u001b[0m     \u001b[0;32mreturn\u001b[0m \u001b[0mprint\u001b[0m\u001b[0;34m(\u001b[0m\u001b[0;34m\",\"\u001b[0m\u001b[0;34m.\u001b[0m\u001b[0mjoin\u001b[0m\u001b[0;34m(\u001b[0m\u001b[0mfib_list\u001b[0m\u001b[0;34m)\u001b[0m\u001b[0;34m)\u001b[0m\u001b[0;34m\u001b[0m\u001b[0;34m\u001b[0m\u001b[0m\n\u001b[1;32m     10\u001b[0m \u001b[0mn\u001b[0m \u001b[0;34m=\u001b[0m \u001b[0mint\u001b[0m\u001b[0;34m(\u001b[0m\u001b[0minput\u001b[0m\u001b[0;34m(\u001b[0m\u001b[0;34m)\u001b[0m\u001b[0;34m)\u001b[0m\u001b[0;34m\u001b[0m\u001b[0;34m\u001b[0m\u001b[0m\n",
            "\u001b[0;31mTypeError\u001b[0m: 'str' object is not callable"
          ]
        }
      ]
    },
    {
      "cell_type": "markdown",
      "source": [
        "###ANSWER62"
      ],
      "metadata": {
        "id": "f4u2joUmV20p"
      }
    },
    {
      "cell_type": "code",
      "source": [
        "n = int(input())\n",
        "\n",
        "for i in range(0, n+1, 2):\n",
        "  if i < n - 1:\n",
        "    print(i, end = ',' )\n",
        "  else:\n",
        "    print(i)"
      ],
      "metadata": {
        "colab": {
          "base_uri": "https://localhost:8080/"
        },
        "id": "YFO7kvhNV1vv",
        "outputId": "5340d5b3-54f4-4357-e474-6580967ea0de"
      },
      "execution_count": 107,
      "outputs": [
        {
          "output_type": "stream",
          "name": "stdout",
          "text": [
            "10\n",
            "0,2,4,6,8,10\n"
          ]
        }
      ]
    },
    {
      "cell_type": "markdown",
      "source": [
        "###ANSWER63"
      ],
      "metadata": {
        "id": "6ZWafiRGV_yq"
      }
    },
    {
      "cell_type": "code",
      "source": [
        "def function(n):\n",
        "    for i in range(n+1):\n",
        "        if i % 35 == 0:   \n",
        "            yield i\n",
        "\n",
        "n = int(input())\n",
        "com = [str(i) for i in function(n)]\n",
        "print(\",\".join(com))"
      ],
      "metadata": {
        "colab": {
          "base_uri": "https://localhost:8080/",
          "height": 339
        },
        "id": "YIgFEBowV_dV",
        "outputId": "403d9c9d-931c-4699-97c9-3e155f00d8c3"
      },
      "execution_count": 108,
      "outputs": [
        {
          "name": "stdout",
          "output_type": "stream",
          "text": [
            "100\n"
          ]
        },
        {
          "output_type": "error",
          "ename": "TypeError",
          "evalue": "ignored",
          "traceback": [
            "\u001b[0;31m---------------------------------------------------------------------------\u001b[0m",
            "\u001b[0;31mTypeError\u001b[0m                                 Traceback (most recent call last)",
            "\u001b[0;32m<ipython-input-108-a9fdc78f74ef>\u001b[0m in \u001b[0;36m<module>\u001b[0;34m()\u001b[0m\n\u001b[1;32m      5\u001b[0m \u001b[0;34m\u001b[0m\u001b[0m\n\u001b[1;32m      6\u001b[0m \u001b[0mn\u001b[0m \u001b[0;34m=\u001b[0m \u001b[0mint\u001b[0m\u001b[0;34m(\u001b[0m\u001b[0minput\u001b[0m\u001b[0;34m(\u001b[0m\u001b[0;34m)\u001b[0m\u001b[0;34m)\u001b[0m\u001b[0;34m\u001b[0m\u001b[0;34m\u001b[0m\u001b[0m\n\u001b[0;32m----> 7\u001b[0;31m \u001b[0mcom\u001b[0m \u001b[0;34m=\u001b[0m \u001b[0;34m[\u001b[0m\u001b[0mstr\u001b[0m\u001b[0;34m(\u001b[0m\u001b[0mi\u001b[0m\u001b[0;34m)\u001b[0m \u001b[0;32mfor\u001b[0m \u001b[0mi\u001b[0m \u001b[0;32min\u001b[0m \u001b[0mfunction\u001b[0m\u001b[0;34m(\u001b[0m\u001b[0mn\u001b[0m\u001b[0;34m)\u001b[0m\u001b[0;34m]\u001b[0m\u001b[0;34m\u001b[0m\u001b[0;34m\u001b[0m\u001b[0m\n\u001b[0m\u001b[1;32m      8\u001b[0m \u001b[0mprint\u001b[0m\u001b[0;34m(\u001b[0m\u001b[0;34m\",\"\u001b[0m\u001b[0;34m.\u001b[0m\u001b[0mjoin\u001b[0m\u001b[0;34m(\u001b[0m\u001b[0mcom\u001b[0m\u001b[0;34m)\u001b[0m\u001b[0;34m)\u001b[0m\u001b[0;34m\u001b[0m\u001b[0;34m\u001b[0m\u001b[0m\n",
            "\u001b[0;32m<ipython-input-108-a9fdc78f74ef>\u001b[0m in \u001b[0;36m<listcomp>\u001b[0;34m(.0)\u001b[0m\n\u001b[1;32m      5\u001b[0m \u001b[0;34m\u001b[0m\u001b[0m\n\u001b[1;32m      6\u001b[0m \u001b[0mn\u001b[0m \u001b[0;34m=\u001b[0m \u001b[0mint\u001b[0m\u001b[0;34m(\u001b[0m\u001b[0minput\u001b[0m\u001b[0;34m(\u001b[0m\u001b[0;34m)\u001b[0m\u001b[0;34m)\u001b[0m\u001b[0;34m\u001b[0m\u001b[0;34m\u001b[0m\u001b[0m\n\u001b[0;32m----> 7\u001b[0;31m \u001b[0mcom\u001b[0m \u001b[0;34m=\u001b[0m \u001b[0;34m[\u001b[0m\u001b[0mstr\u001b[0m\u001b[0;34m(\u001b[0m\u001b[0mi\u001b[0m\u001b[0;34m)\u001b[0m \u001b[0;32mfor\u001b[0m \u001b[0mi\u001b[0m \u001b[0;32min\u001b[0m \u001b[0mfunction\u001b[0m\u001b[0;34m(\u001b[0m\u001b[0mn\u001b[0m\u001b[0;34m)\u001b[0m\u001b[0;34m]\u001b[0m\u001b[0;34m\u001b[0m\u001b[0;34m\u001b[0m\u001b[0m\n\u001b[0m\u001b[1;32m      8\u001b[0m \u001b[0mprint\u001b[0m\u001b[0;34m(\u001b[0m\u001b[0;34m\",\"\u001b[0m\u001b[0;34m.\u001b[0m\u001b[0mjoin\u001b[0m\u001b[0;34m(\u001b[0m\u001b[0mcom\u001b[0m\u001b[0;34m)\u001b[0m\u001b[0;34m)\u001b[0m\u001b[0;34m\u001b[0m\u001b[0;34m\u001b[0m\u001b[0m\n",
            "\u001b[0;31mTypeError\u001b[0m: 'str' object is not callable"
          ]
        }
      ]
    },
    {
      "cell_type": "markdown",
      "source": [
        "###ANSWER64"
      ],
      "metadata": {
        "id": "ezxi5ponWVgc"
      }
    },
    {
      "cell_type": "code",
      "source": [
        "list1 = [2,4,6,8,10]\n",
        "for i in list1:\n",
        "    assert i%2==0"
      ],
      "metadata": {
        "id": "nsfQTyasWVC3"
      },
      "execution_count": 109,
      "outputs": []
    },
    {
      "cell_type": "markdown",
      "source": [
        "###ANSWER65"
      ],
      "metadata": {
        "id": "OkaEGry9Whqv"
      }
    },
    {
      "cell_type": "code",
      "source": [
        "input = input()\n",
        "ans = eval(input)\n",
        "print(ans)"
      ],
      "metadata": {
        "colab": {
          "base_uri": "https://localhost:8080/"
        },
        "id": "iIb0p3PsWhWV",
        "outputId": "27773eef-85b3-4da5-b534-62157a7ad23e"
      },
      "execution_count": 110,
      "outputs": [
        {
          "output_type": "stream",
          "name": "stdout",
          "text": [
            "35+3\n",
            "38\n"
          ]
        }
      ]
    },
    {
      "cell_type": "markdown",
      "source": [
        "###ANSWER66"
      ],
      "metadata": {
        "id": "PofXdEB2Wql-"
      }
    },
    {
      "cell_type": "code",
      "source": [
        "def binary(lst, num):\n",
        "    low = 0\n",
        "    high = len(lst) - 1\n",
        "    \n",
        "    while low <= high:\n",
        "        mid = round((low + high) / 2)\n",
        "        \n",
        "        if lst[mid] == num:\n",
        "            return mid\n",
        "        elif lst[mid] > num:\n",
        "            high = mid - 1\n",
        "        else:\n",
        "            low = mid + 1\n",
        "    return None\n",
        "    \n",
        "lst = [1,7,8,9,10]\n",
        "print(binary(lst, 6))   "
      ],
      "metadata": {
        "colab": {
          "base_uri": "https://localhost:8080/"
        },
        "id": "u9-PRwdWWqPo",
        "outputId": "e8f84b30-5ad7-4d8e-f62b-dc8f11976d8e"
      },
      "execution_count": 111,
      "outputs": [
        {
          "output_type": "stream",
          "name": "stdout",
          "text": [
            "None\n"
          ]
        }
      ]
    },
    {
      "cell_type": "markdown",
      "source": [
        "###ANSWER67"
      ],
      "metadata": {
        "id": "kmDShl9iW36y"
      }
    },
    {
      "cell_type": "code",
      "source": [
        "import random\n",
        "randomnum = random.uniform(10,100)\n",
        "print(randomnum)"
      ],
      "metadata": {
        "colab": {
          "base_uri": "https://localhost:8080/"
        },
        "id": "PUmjt8SBW3ns",
        "outputId": "8cb7d161-959d-49c5-ff2f-27637478bfb3"
      },
      "execution_count": 112,
      "outputs": [
        {
          "output_type": "stream",
          "name": "stdout",
          "text": [
            "62.20008261153658\n"
          ]
        }
      ]
    },
    {
      "cell_type": "markdown",
      "source": [
        "###ANSWER68"
      ],
      "metadata": {
        "id": "-V3AqJVDW95x"
      }
    },
    {
      "cell_type": "code",
      "source": [
        "import random\n",
        "print (random.random()*100-5)"
      ],
      "metadata": {
        "colab": {
          "base_uri": "https://localhost:8080/"
        },
        "id": "Yqd7BUhtW9kW",
        "outputId": "138630f4-7986-4988-a2b8-d5709a6bab28"
      },
      "execution_count": 113,
      "outputs": [
        {
          "output_type": "stream",
          "name": "stdout",
          "text": [
            "48.642974440003975\n"
          ]
        }
      ]
    },
    {
      "cell_type": "markdown",
      "source": [
        "###ANSWER69"
      ],
      "metadata": {
        "id": "rHKaNhzxXKOI"
      }
    },
    {
      "cell_type": "code",
      "source": [
        "import random\n",
        "out = [i for i in range(0,11,2)]\n",
        "print(random.choice(out))"
      ],
      "metadata": {
        "colab": {
          "base_uri": "https://localhost:8080/"
        },
        "id": "PwM8bhXBXJnG",
        "outputId": "1483d91f-da4a-4e82-ed29-08a06289e119"
      },
      "execution_count": 114,
      "outputs": [
        {
          "output_type": "stream",
          "name": "stdout",
          "text": [
            "4\n"
          ]
        }
      ]
    },
    {
      "cell_type": "markdown",
      "source": [
        "###ANSWER70"
      ],
      "metadata": {
        "id": "sP2OcGHaXSfy"
      }
    },
    {
      "cell_type": "code",
      "source": [
        "import random\n",
        "out = [i for i in range(10,151) if i % 35 == 0 ]\n",
        "print(random.choice(out))"
      ],
      "metadata": {
        "colab": {
          "base_uri": "https://localhost:8080/"
        },
        "id": "jMAP4LicXSIo",
        "outputId": "1ec31059-08f2-446f-9ef7-9aa81a5466ed"
      },
      "execution_count": 115,
      "outputs": [
        {
          "output_type": "stream",
          "name": "stdout",
          "text": [
            "105\n"
          ]
        }
      ]
    },
    {
      "cell_type": "markdown",
      "source": [
        "###ANSWER71"
      ],
      "metadata": {
        "id": "hS7l7pinXeV8"
      }
    },
    {
      "cell_type": "code",
      "source": [
        "import random\n",
        "print (random.sample(range(100,201), 5))"
      ],
      "metadata": {
        "colab": {
          "base_uri": "https://localhost:8080/"
        },
        "id": "fQpJ4ketXd-y",
        "outputId": "28951513-44ec-48f2-f287-ad7c5cade539"
      },
      "execution_count": 116,
      "outputs": [
        {
          "output_type": "stream",
          "name": "stdout",
          "text": [
            "[155, 154, 101, 169, 180]\n"
          ]
        }
      ]
    },
    {
      "cell_type": "markdown",
      "source": [
        "###ANSWER72"
      ],
      "metadata": {
        "id": "as_R0v3fXjqz"
      }
    },
    {
      "cell_type": "code",
      "source": [
        "import random\n",
        "out = random.sample(range(100,201,2),5)\n",
        "print(out)"
      ],
      "metadata": {
        "colab": {
          "base_uri": "https://localhost:8080/"
        },
        "id": "tEBOGjbfXi2P",
        "outputId": "74a9c67f-4b6c-4df1-832b-257bb73f116b"
      },
      "execution_count": 118,
      "outputs": [
        {
          "output_type": "stream",
          "name": "stdout",
          "text": [
            "[190, 142, 158, 108, 162]\n"
          ]
        }
      ]
    },
    {
      "cell_type": "markdown",
      "source": [
        "###ANSWER73"
      ],
      "metadata": {
        "id": "gSFufN3dXw08"
      }
    },
    {
      "cell_type": "code",
      "source": [
        "import random\n",
        "list1 = [i for i in range(1,1001) if i%35 == 0]\n",
        "out = random.sample(list1,5)\n",
        "print(out)"
      ],
      "metadata": {
        "colab": {
          "base_uri": "https://localhost:8080/"
        },
        "id": "1iLjFuy-Xwfu",
        "outputId": "4ffca4d9-f209-47ec-b4cb-f73e8a4e6c69"
      },
      "execution_count": 119,
      "outputs": [
        {
          "output_type": "stream",
          "name": "stdout",
          "text": [
            "[140, 980, 875, 245, 420]\n"
          ]
        }
      ]
    },
    {
      "cell_type": "markdown",
      "source": [
        "###ANSWER74"
      ],
      "metadata": {
        "id": "8OP1iVL4YasV"
      }
    },
    {
      "cell_type": "code",
      "source": [
        "import random\n",
        "print (random.randrange(7,16))"
      ],
      "metadata": {
        "colab": {
          "base_uri": "https://localhost:8080/"
        },
        "id": "xiwIlpKIYaao",
        "outputId": "0d60571d-74f4-466d-88ea-a849e4e88a5d"
      },
      "execution_count": 120,
      "outputs": [
        {
          "output_type": "stream",
          "name": "stdout",
          "text": [
            "11\n"
          ]
        }
      ]
    },
    {
      "cell_type": "markdown",
      "source": [
        "###ANSWER75"
      ],
      "metadata": {
        "id": "TNxzdJWeYiSF"
      }
    },
    {
      "cell_type": "code",
      "source": [
        "import zlib\n",
        "string = 'hello world!hello world!hello world!hello world!'\n",
        "x1 = bytes(s, 'utf-8')\n",
        "x2 = zlib.compress(x1)\n",
        "print(x2)\n",
        "print(zlib.decompress(x2))"
      ],
      "metadata": {
        "colab": {
          "base_uri": "https://localhost:8080/"
        },
        "id": "JVJ-Map0YiBU",
        "outputId": "bdcf5c6f-6f74-41c6-ab27-2f916573554a"
      },
      "execution_count": 126,
      "outputs": [
        {
          "output_type": "stream",
          "name": "stdout",
          "text": [
            "b'x\\x9cKJNIM\\x03\\x00\\x05\\xd7\\x01\\xf5'\n",
            "b'bcdef'\n"
          ]
        }
      ]
    },
    {
      "cell_type": "markdown",
      "source": [
        "###ANSWER76"
      ],
      "metadata": {
        "id": "Kxij7b4nYwVA"
      }
    },
    {
      "cell_type": "code",
      "source": [
        "import time\n",
        "\n",
        "time1 = time.time()\n",
        "for i in range(100):\n",
        "    x = 1 + 1\n",
        "time2 = time.time()\n",
        "time = time2 - time1\n",
        "print(time)"
      ],
      "metadata": {
        "colab": {
          "base_uri": "https://localhost:8080/"
        },
        "id": "lFS2bE8FYv-V",
        "outputId": "70c4c009-a929-42f4-e638-0703643b7a7d"
      },
      "execution_count": 122,
      "outputs": [
        {
          "output_type": "stream",
          "name": "stdout",
          "text": [
            "5.269050598144531e-05\n"
          ]
        }
      ]
    },
    {
      "cell_type": "markdown",
      "source": [
        "###ANSWER77"
      ],
      "metadata": {
        "id": "cBq9k0oFY465"
      }
    },
    {
      "cell_type": "code",
      "source": [
        "import random\n",
        "list1 = [3,6,7,8]\n",
        "random.shuffle(list1)\n",
        "print(list1)"
      ],
      "metadata": {
        "colab": {
          "base_uri": "https://localhost:8080/"
        },
        "id": "9HOAAxKLY4pa",
        "outputId": "d57d4608-83f1-4842-deb9-fc4820a49c1e"
      },
      "execution_count": 123,
      "outputs": [
        {
          "output_type": "stream",
          "name": "stdout",
          "text": [
            "[7, 3, 8, 6]\n"
          ]
        }
      ]
    },
    {
      "cell_type": "markdown",
      "source": [
        "###ANSWER78"
      ],
      "metadata": {
        "id": "Bm2sLzhEZGse"
      }
    },
    {
      "cell_type": "code",
      "source": [
        "subjects=[\"I\", \"You\"]\n",
        "verbs=[\"Play\", \"Love\"]\n",
        "objects=[\"Hockey\",\"Football\"]\n",
        "\n",
        "for x in subjects:\n",
        "    for y in verbs:\n",
        "        for z in objects:\n",
        "            print(\"{} {} {}\".format(x,y,z))"
      ],
      "metadata": {
        "colab": {
          "base_uri": "https://localhost:8080/"
        },
        "id": "eucu_TMrZGc_",
        "outputId": "3dc84c62-97bf-470f-a26c-219946b67ffb"
      },
      "execution_count": 124,
      "outputs": [
        {
          "output_type": "stream",
          "name": "stdout",
          "text": [
            "I Play Hockey\n",
            "I Play Football\n",
            "I Love Hockey\n",
            "I Love Football\n",
            "You Play Hockey\n",
            "You Play Football\n",
            "You Love Hockey\n",
            "You Love Football\n"
          ]
        }
      ]
    },
    {
      "cell_type": "markdown",
      "source": [
        "###ANSWER79"
      ],
      "metadata": {
        "id": "tnTfkQBLZRAP"
      }
    },
    {
      "cell_type": "code",
      "source": [
        "list1 = [5,6,77,45,22,12,24]\n",
        "list1 = [x for x in list1 if x%2!=0]\n",
        "print (list1)"
      ],
      "metadata": {
        "colab": {
          "base_uri": "https://localhost:8080/"
        },
        "id": "DnIEs02xZQfd",
        "outputId": "7a2ddddf-5f03-45ca-a07d-71b40b1f09ef"
      },
      "execution_count": 125,
      "outputs": [
        {
          "output_type": "stream",
          "name": "stdout",
          "text": [
            "[5, 77, 45]\n"
          ]
        }
      ]
    },
    {
      "cell_type": "markdown",
      "source": [
        "###ANSWER80"
      ],
      "metadata": {
        "id": "AmQqt6-CNUaD"
      }
    },
    {
      "cell_type": "code",
      "source": [
        "l = [5,6,77,45,22,12,24]\n",
        "for i in l:\n",
        "  if (i%2 == 0):\n",
        "    print(i)\n",
        "    l.remove(i)\n",
        "  else:\n",
        "    pass\n",
        "\n",
        "print(l)"
      ],
      "metadata": {
        "colab": {
          "base_uri": "https://localhost:8080/"
        },
        "id": "mV98C_WEriRN",
        "outputId": "e6354b62-fe73-48f9-9ce4-bb1a1645a4f6"
      },
      "execution_count": null,
      "outputs": [
        {
          "output_type": "stream",
          "name": "stdout",
          "text": [
            "6\n",
            "22\n",
            "24\n",
            "[5, 77, 45, 12]\n"
          ]
        }
      ]
    },
    {
      "cell_type": "markdown",
      "source": [
        "###ANSWER81"
      ],
      "metadata": {
        "id": "gn7ULXE-r727"
      }
    },
    {
      "cell_type": "code",
      "source": [
        "l = [12,24,35,70,88,120,155]\n",
        "l = [x for x in l if x % 5 != 0 and x % 7 != 0]\n",
        "print(l)"
      ],
      "metadata": {
        "colab": {
          "base_uri": "https://localhost:8080/"
        },
        "id": "WqB35dklr9u5",
        "outputId": "e2357cc4-c1ae-4568-f1ce-4257477a113c"
      },
      "execution_count": null,
      "outputs": [
        {
          "output_type": "stream",
          "name": "stdout",
          "text": [
            "[12, 24, 88]\n"
          ]
        }
      ]
    },
    {
      "cell_type": "markdown",
      "source": [
        "###ANSWER82"
      ],
      "metadata": {
        "id": "Wq9mktbWsR6h"
      }
    },
    {
      "cell_type": "code",
      "source": [
        "l= [12,24,35,70,88,120,155]\n",
        "l= [x for (i,x) in enumerate(l) if i not in (0,2,4,6)]\n",
        "print(l)"
      ],
      "metadata": {
        "colab": {
          "base_uri": "https://localhost:8080/"
        },
        "id": "b8AxkZVysT_C",
        "outputId": "4eae33a5-f91c-4f40-f82b-af8271a402eb"
      },
      "execution_count": null,
      "outputs": [
        {
          "output_type": "stream",
          "name": "stdout",
          "text": [
            "[24, 70, 120]\n"
          ]
        }
      ]
    },
    {
      "cell_type": "markdown",
      "source": [
        "###ANSWER83"
      ],
      "metadata": {
        "id": "8gBEoDgds4DM"
      }
    },
    {
      "cell_type": "code",
      "source": [
        "l= [12,24,35,70,88,120,155]\n",
        "l= [x for (i,x) in enumerate(l) if i not in (2,4)]\n",
        "print(l)"
      ],
      "metadata": {
        "colab": {
          "base_uri": "https://localhost:8080/"
        },
        "id": "3ODm9t4Ms72I",
        "outputId": "dd11ce1b-2fa8-4aba-96a5-092ecfc790cd"
      },
      "execution_count": null,
      "outputs": [
        {
          "output_type": "stream",
          "name": "stdout",
          "text": [
            "[12, 24, 70, 120, 155]\n"
          ]
        }
      ]
    },
    {
      "cell_type": "markdown",
      "source": [
        "###ANSWER84"
      ],
      "metadata": {
        "id": "J2A7aE-ktmPQ"
      }
    },
    {
      "cell_type": "code",
      "source": [
        "array = [[ ['*' for col in range(3)] for col in range(5)] for row in range(8)]\n",
        "print(array)"
      ],
      "metadata": {
        "colab": {
          "base_uri": "https://localhost:8080/"
        },
        "id": "zXuzDKjmtozm",
        "outputId": "c9025374-e656-4bba-8824-0d35c8ca4b81"
      },
      "execution_count": null,
      "outputs": [
        {
          "output_type": "stream",
          "name": "stdout",
          "text": [
            "[[['*', '*', '*'], ['*', '*', '*'], ['*', '*', '*'], ['*', '*', '*'], ['*', '*', '*']], [['*', '*', '*'], ['*', '*', '*'], ['*', '*', '*'], ['*', '*', '*'], ['*', '*', '*']], [['*', '*', '*'], ['*', '*', '*'], ['*', '*', '*'], ['*', '*', '*'], ['*', '*', '*']], [['*', '*', '*'], ['*', '*', '*'], ['*', '*', '*'], ['*', '*', '*'], ['*', '*', '*']], [['*', '*', '*'], ['*', '*', '*'], ['*', '*', '*'], ['*', '*', '*'], ['*', '*', '*']], [['*', '*', '*'], ['*', '*', '*'], ['*', '*', '*'], ['*', '*', '*'], ['*', '*', '*']], [['*', '*', '*'], ['*', '*', '*'], ['*', '*', '*'], ['*', '*', '*'], ['*', '*', '*']], [['*', '*', '*'], ['*', '*', '*'], ['*', '*', '*'], ['*', '*', '*'], ['*', '*', '*']]]\n"
          ]
        }
      ]
    },
    {
      "cell_type": "markdown",
      "source": [
        "###ANSWER85"
      ],
      "metadata": {
        "id": "W7qYXhvMtuA6"
      }
    },
    {
      "cell_type": "code",
      "source": [
        "l= [12,24,35,70,88,120,155]\n",
        "l= [x for (i,x) in enumerate(l) if i not in (0,4,5)]\n",
        "print(l)"
      ],
      "metadata": {
        "colab": {
          "base_uri": "https://localhost:8080/"
        },
        "id": "wAgcthhPtwNm",
        "outputId": "9f6bcfca-0744-46c6-aa77-cbf53667216e"
      },
      "execution_count": null,
      "outputs": [
        {
          "output_type": "stream",
          "name": "stdout",
          "text": [
            "[24, 35, 70, 155]\n"
          ]
        }
      ]
    },
    {
      "cell_type": "markdown",
      "source": [
        "###ANSWER86"
      ],
      "metadata": {
        "id": "IN706eBsuERs"
      }
    },
    {
      "cell_type": "code",
      "source": [
        "l = [12,24,35,70,88,120,155]\n",
        "l.remove(24)\n",
        "print(l)\n"
      ],
      "metadata": {
        "colab": {
          "base_uri": "https://localhost:8080/"
        },
        "id": "QkOxhL9IuG3Y",
        "outputId": "05b04343-a928-4235-d8d6-b7136e8e9b3a"
      },
      "execution_count": null,
      "outputs": [
        {
          "output_type": "stream",
          "name": "stdout",
          "text": [
            "[12, 35, 70, 88, 120, 155]\n"
          ]
        }
      ]
    },
    {
      "cell_type": "markdown",
      "source": [
        "###ANSWER87"
      ],
      "metadata": {
        "id": "hc45nhifu0A0"
      }
    },
    {
      "cell_type": "code",
      "source": [
        "def intersection(l1, l2):\n",
        "    l3 = [value for value in l1 if value in l2]\n",
        "    return l3\n",
        "l1=[1,3,6,78,35,55]    \n",
        "l2=[12,24,35,24,88,120,155]\n",
        "print(intersection(l1, l2))    \n",
        "    "
      ],
      "metadata": {
        "colab": {
          "base_uri": "https://localhost:8080/"
        },
        "id": "jKcqvylWu2Ss",
        "outputId": "b8abce15-3d60-48b3-f4cd-f74df7121cac"
      },
      "execution_count": null,
      "outputs": [
        {
          "output_type": "stream",
          "name": "stdout",
          "text": [
            "[35]\n"
          ]
        }
      ]
    },
    {
      "cell_type": "markdown",
      "source": [
        "###ANSWER88"
      ],
      "metadata": {
        "id": "FeEdrBeAv7Y7"
      }
    },
    {
      "cell_type": "code",
      "source": [
        "list = [12,24,35,24,88,120,155,88,120,155]\n",
        "print (\"The original list is : \" +  str(list))\n",
        "list = (set(list))\n",
        "print (\"The list after removing duplicates : \" + str(list))"
      ],
      "metadata": {
        "colab": {
          "base_uri": "https://localhost:8080/"
        },
        "id": "Dp1Mto0kv9WO",
        "outputId": "59c929c9-fe25-42bf-89cb-b84146382f76"
      },
      "execution_count": null,
      "outputs": [
        {
          "output_type": "stream",
          "name": "stdout",
          "text": [
            "The original list is : [12, 24, 35, 24, 88, 120, 155, 88, 120, 155]\n",
            "The list after removing duplicates : {35, 12, 155, 24, 88, 120}\n"
          ]
        }
      ]
    },
    {
      "cell_type": "markdown",
      "source": [
        "###ANSWER89"
      ],
      "metadata": {
        "id": "xUPZJVOlw3J9"
      }
    },
    {
      "cell_type": "code",
      "source": [
        "class  Person(object):  \n",
        "    def  getGender(self):  \n",
        "        return  \"Not defined\"  \n",
        "class  Male(Person):  \n",
        "    def  getGender(self):  \n",
        "        return  \"Male\"  \n",
        "class  Female(Person):  \n",
        "    def  getGender(self):  \n",
        "        return  \"Female\"  \n",
        "male  =  Male()  \n",
        "female=  Female()  \n",
        "print(male.getGender())  \n",
        "print(female.getGender())"
      ],
      "metadata": {
        "colab": {
          "base_uri": "https://localhost:8080/"
        },
        "id": "094LOL8dw5dd",
        "outputId": "efc26bec-3d42-4c69-f724-87dadae5701f"
      },
      "execution_count": null,
      "outputs": [
        {
          "output_type": "stream",
          "name": "stdout",
          "text": [
            "Male\n",
            "Female\n"
          ]
        }
      ]
    },
    {
      "cell_type": "markdown",
      "source": [
        "###ANSWER90"
      ],
      "metadata": {
        "id": "8xf5C4eMxrZw"
      }
    },
    {
      "cell_type": "code",
      "source": [
        "s = input()\n",
        "for letter in range(ord('a'),ord('z')+1):    \n",
        "    letter = chr(letter)                     \n",
        "    c = s.count(letter)\n",
        "    if c > 0:\n",
        "        print(\"{},{}\".format(letter,c))"
      ],
      "metadata": {
        "colab": {
          "base_uri": "https://localhost:8080/"
        },
        "id": "r8WaD2hwxv6F",
        "outputId": "c71f3ccb-1683-40eb-857d-30779f709cd7"
      },
      "execution_count": null,
      "outputs": [
        {
          "output_type": "stream",
          "name": "stdout",
          "text": [
            "abcdefgabc\n",
            "a,2\n",
            "b,2\n",
            "c,2\n",
            "d,1\n",
            "e,1\n",
            "f,1\n",
            "g,1\n"
          ]
        }
      ]
    },
    {
      "cell_type": "markdown",
      "source": [
        "###ANSWER91"
      ],
      "metadata": {
        "id": "PWh5Z7Ef1tcE"
      }
    },
    {
      "cell_type": "code",
      "source": [
        "def reverse(string):\n",
        "    string = string[::-1]\n",
        "    return string\n",
        "  \n",
        "s =input(\"enter the string  \")\n",
        "  \n",
        "print (\"The original string  is : \",end=\"\")\n",
        "print (s)\n",
        "  \n",
        "print (\"The reversed string(using extended slice syntax) is : \",end=\"\")\n",
        "print (reverse(s))"
      ],
      "metadata": {
        "colab": {
          "base_uri": "https://localhost:8080/"
        },
        "id": "AEn1g8dd13k6",
        "outputId": "0bc662a7-5e36-4d7f-ae03-7aaba1a35e3f"
      },
      "execution_count": null,
      "outputs": [
        {
          "output_type": "stream",
          "name": "stdout",
          "text": [
            "enter the string  all the best\n",
            "The original string  is : all the best\n",
            "The reversed string(using extended slice syntax) is : tseb eht lla\n"
          ]
        }
      ]
    },
    {
      "cell_type": "markdown",
      "source": [
        "###ANSWER92"
      ],
      "metadata": {
        "id": "3tm7qrGM2PEc"
      }
    },
    {
      "cell_type": "code",
      "source": [
        "str = input(\"Enter a string\\n\")\n",
        "new_string = str[::2]\n",
        "print(new_string)"
      ],
      "metadata": {
        "colab": {
          "base_uri": "https://localhost:8080/"
        },
        "id": "gvzd8BK12Sj5",
        "outputId": "6d0ea881-7db7-423c-c9e3-3e22a2f7426f"
      },
      "execution_count": null,
      "outputs": [
        {
          "output_type": "stream",
          "name": "stdout",
          "text": [
            "Enter a string\n",
            "H1e2l3l4o5w6o7r8l9d\n",
            "Helloworld\n"
          ]
        }
      ]
    },
    {
      "cell_type": "markdown",
      "source": [
        "###ANSWER93"
      ],
      "metadata": {
        "id": "ERaQcrPG3FJ4"
      }
    },
    {
      "cell_type": "code",
      "source": [
        "import itertools\n",
        "print(set(itertools.permutations([1,2,3])))"
      ],
      "metadata": {
        "colab": {
          "base_uri": "https://localhost:8080/"
        },
        "id": "sTfsE4eB3HcF",
        "outputId": "8d10ab90-99d0-4bdb-a3f3-d853e8a7081b"
      },
      "execution_count": null,
      "outputs": [
        {
          "output_type": "stream",
          "name": "stdout",
          "text": [
            "{(3, 1, 2), (1, 3, 2), (3, 2, 1), (2, 3, 1), (1, 2, 3), (2, 1, 3)}\n"
          ]
        }
      ]
    },
    {
      "cell_type": "markdown",
      "source": [
        "###ANSWER95"
      ],
      "metadata": {
        "id": "zunJobrV65Gl"
      }
    },
    {
      "cell_type": "code",
      "source": [
        "if __name__ == '__main__':\n",
        "    n = int(input())\n",
        "    arr = list(map(int, input().split()))\n",
        "    zes = max(arr)\n",
        "    i=0\n",
        "    while(i<n):\n",
        "        if zes ==max(arr):\n",
        "            arr.remove(max(arr))\n",
        "        i+=1\n",
        "    print(max(arr))"
      ],
      "metadata": {
        "colab": {
          "base_uri": "https://localhost:8080/",
          "height": 270
        },
        "id": "brSVYzIs7OuO",
        "outputId": "a1d9c2ff-7e00-494b-ac97-66c47d583e2d"
      },
      "execution_count": null,
      "outputs": [
        {
          "name": "stdout",
          "output_type": "stream",
          "text": [
            "5\n",
            "2,3,6,6,5\n"
          ]
        },
        {
          "output_type": "error",
          "ename": "TypeError",
          "evalue": "ignored",
          "traceback": [
            "\u001b[0;31m---------------------------------------------------------------------------\u001b[0m",
            "\u001b[0;31mTypeError\u001b[0m                                 Traceback (most recent call last)",
            "\u001b[0;32m<ipython-input-68-ea6d8d1e164b>\u001b[0m in \u001b[0;36m<module>\u001b[0;34m()\u001b[0m\n\u001b[1;32m      1\u001b[0m \u001b[0;32mif\u001b[0m \u001b[0m__name__\u001b[0m \u001b[0;34m==\u001b[0m \u001b[0;34m'__main__'\u001b[0m\u001b[0;34m:\u001b[0m\u001b[0;34m\u001b[0m\u001b[0;34m\u001b[0m\u001b[0m\n\u001b[1;32m      2\u001b[0m     \u001b[0mn\u001b[0m \u001b[0;34m=\u001b[0m \u001b[0mint\u001b[0m\u001b[0;34m(\u001b[0m\u001b[0minput\u001b[0m\u001b[0;34m(\u001b[0m\u001b[0;34m)\u001b[0m\u001b[0;34m)\u001b[0m\u001b[0;34m\u001b[0m\u001b[0;34m\u001b[0m\u001b[0m\n\u001b[0;32m----> 3\u001b[0;31m     \u001b[0marr\u001b[0m \u001b[0;34m=\u001b[0m \u001b[0mlist\u001b[0m\u001b[0;34m(\u001b[0m\u001b[0mmap\u001b[0m\u001b[0;34m(\u001b[0m\u001b[0mint\u001b[0m\u001b[0;34m,\u001b[0m \u001b[0minput\u001b[0m\u001b[0;34m(\u001b[0m\u001b[0;34m)\u001b[0m\u001b[0;34m.\u001b[0m\u001b[0msplit\u001b[0m\u001b[0;34m(\u001b[0m\u001b[0;34m)\u001b[0m\u001b[0;34m)\u001b[0m\u001b[0;34m)\u001b[0m\u001b[0;34m\u001b[0m\u001b[0;34m\u001b[0m\u001b[0m\n\u001b[0m\u001b[1;32m      4\u001b[0m     \u001b[0mzes\u001b[0m \u001b[0;34m=\u001b[0m \u001b[0mmax\u001b[0m\u001b[0;34m(\u001b[0m\u001b[0marr\u001b[0m\u001b[0;34m)\u001b[0m\u001b[0;34m\u001b[0m\u001b[0;34m\u001b[0m\u001b[0m\n\u001b[1;32m      5\u001b[0m     \u001b[0mi\u001b[0m\u001b[0;34m=\u001b[0m\u001b[0;36m0\u001b[0m\u001b[0;34m\u001b[0m\u001b[0;34m\u001b[0m\u001b[0m\n",
            "\u001b[0;31mTypeError\u001b[0m: 'set' object is not callable"
          ]
        }
      ]
    },
    {
      "cell_type": "markdown",
      "source": [
        ""
      ],
      "metadata": {
        "id": "xH_BS70D7gVD"
      }
    },
    {
      "cell_type": "markdown",
      "source": [
        "###ANSWER96"
      ],
      "metadata": {
        "id": "sC23DW9M7haD"
      }
    },
    {
      "cell_type": "code",
      "source": [
        "import textwrap\n",
        "def wrap(string, max_width):\n",
        "    for i in range(0,len(string)+1,max_width):\n",
        "        result = string[i:i+max_width]\n",
        "        if len(result) == max_width:\n",
        "            print(result)\n",
        "        else:\n",
        "            return(result)\n",
        "if __name__ == '__main__':\n",
        "    string, max_width = input(), int(input())\n",
        "    result = wrap(string, max_width)\n",
        "    print(result)"
      ],
      "metadata": {
        "colab": {
          "base_uri": "https://localhost:8080/"
        },
        "id": "8h_69v0n7j51",
        "outputId": "059e39d4-0977-4010-9c55-4c635b3b8cf9"
      },
      "execution_count": null,
      "outputs": [
        {
          "output_type": "stream",
          "name": "stdout",
          "text": [
            "ABCDEFGHIJKLIMNOQRSTUVWXYZ\n",
            "4\n",
            "ABCD\n",
            "EFGH\n",
            "IJKL\n",
            "IMNO\n",
            "QRST\n",
            "UVWX\n",
            "YZ\n"
          ]
        }
      ]
    },
    {
      "cell_type": "markdown",
      "source": [
        "###ANSWER97"
      ],
      "metadata": {
        "id": "oUawU3XV8CTE"
      }
    },
    {
      "cell_type": "code",
      "source": [
        "def print_rangoli(size):\n",
        "    width  = size*4-3\n",
        "    string = ''\n",
        "\n",
        "    for i in range(1,size+1):\n",
        "        for j in range(0,i):\n",
        "            string += chr(96+size-j)\n",
        "            if len(string) < width :\n",
        "                string += '-'\n",
        "        for k in range(i-1,0,-1):    \n",
        "            string += chr(97+size-k)\n",
        "            if len(string) < width :\n",
        "                string += '-'\n",
        "        print(string.center(width,'-'))\n",
        "        string = ''\n",
        "\n",
        "    for i in range(size-1,0,-1):\n",
        "        string = ''\n",
        "        for j in range(0,i):\n",
        "            string += chr(96+size-j)\n",
        "            if len(string) < width :\n",
        "                string += '-'\n",
        "        for k in range(i-1,0,-1):\n",
        "            string += chr(97+size-k)\n",
        "            if len(string) < width :\n",
        "                string += '-'\n",
        "        print(string.center(width,'-'))\n",
        "\n",
        "if __name__ == '__main__':\n",
        "    n = int(input())\n",
        "    print_rangoli(n)"
      ],
      "metadata": {
        "colab": {
          "base_uri": "https://localhost:8080/"
        },
        "id": "J3syY8yE8IdU",
        "outputId": "63dc6ad9-4fa0-4fa8-eed1-595bd1ced400"
      },
      "execution_count": null,
      "outputs": [
        {
          "output_type": "stream",
          "name": "stdout",
          "text": [
            "3\n",
            "----c----\n",
            "--c-b-c--\n",
            "c-b-a-b-c\n",
            "--c-b-c--\n",
            "----c----\n"
          ]
        }
      ]
    },
    {
      "cell_type": "markdown",
      "source": [
        "###ANSWER98"
      ],
      "metadata": {
        "id": "iienAdAA9fYD"
      }
    },
    {
      "cell_type": "code",
      "source": [
        "import datetime\n",
        "import calendar\n",
        " \n",
        "def findDay(date):\n",
        "    D= datetime.datetime.strptime(date, '%d %m %Y').weekday()\n",
        "    return (calendar.day_name[D])\n",
        "date = '12 04 2022'\n",
        "print(findDay(date))"
      ],
      "metadata": {
        "colab": {
          "base_uri": "https://localhost:8080/"
        },
        "id": "gV4WOy499iEa",
        "outputId": "633404ab-fd42-4c48-9c4e-f0b3c94f5db6"
      },
      "execution_count": null,
      "outputs": [
        {
          "output_type": "stream",
          "name": "stdout",
          "text": [
            "Tuesday\n"
          ]
        }
      ]
    },
    {
      "cell_type": "markdown",
      "source": [
        "###ANSWER99"
      ],
      "metadata": {
        "id": "gtZud4uB-BRF"
      }
    },
    {
      "cell_type": "code",
      "source": [
        "M = int(input())\n",
        "Set = set(map(int, input().split()))\n",
        "N = int(input())\n",
        "Set1 =set(map(int,input().split()))\n",
        "\n",
        "def1 = Set.difference(Set1)\n",
        "def2 = Set1.difference(Set)\n",
        "\n",
        "output = def1.union(def2)\n",
        "\n",
        "for i in sorted(list(output)):\n",
        "    print(i)\n",
        "    '''4\n",
        "2 4 5 9\n",
        "4 \n",
        "2 11 12 4\n",
        "5\n",
        "9\n",
        "11\n",
        "12'''"
      ],
      "metadata": {
        "colab": {
          "base_uri": "https://localhost:8080/",
          "height": 270
        },
        "id": "Q5J0d5xq-D4j",
        "outputId": "16a8dc30-1a1d-4f6b-ca07-4ad3a508b0e9"
      },
      "execution_count": null,
      "outputs": [
        {
          "name": "stdout",
          "output_type": "stream",
          "text": [
            "4\n",
            "2,3,4,5\n"
          ]
        },
        {
          "output_type": "error",
          "ename": "TypeError",
          "evalue": "ignored",
          "traceback": [
            "\u001b[0;31m---------------------------------------------------------------------------\u001b[0m",
            "\u001b[0;31mTypeError\u001b[0m                                 Traceback (most recent call last)",
            "\u001b[0;32m<ipython-input-78-e4405f6e94c4>\u001b[0m in \u001b[0;36m<module>\u001b[0;34m()\u001b[0m\n\u001b[1;32m      1\u001b[0m \u001b[0mM\u001b[0m \u001b[0;34m=\u001b[0m \u001b[0mint\u001b[0m\u001b[0;34m(\u001b[0m\u001b[0minput\u001b[0m\u001b[0;34m(\u001b[0m\u001b[0;34m)\u001b[0m\u001b[0;34m)\u001b[0m\u001b[0;34m\u001b[0m\u001b[0;34m\u001b[0m\u001b[0m\n\u001b[0;32m----> 2\u001b[0;31m \u001b[0mSet\u001b[0m \u001b[0;34m=\u001b[0m \u001b[0mlist\u001b[0m\u001b[0;34m(\u001b[0m\u001b[0;34m(\u001b[0m \u001b[0minput\u001b[0m\u001b[0;34m(\u001b[0m\u001b[0;34m)\u001b[0m\u001b[0;34m.\u001b[0m\u001b[0msplit\u001b[0m\u001b[0;34m(\u001b[0m\u001b[0;34m)\u001b[0m\u001b[0;34m)\u001b[0m\u001b[0;34m)\u001b[0m\u001b[0;34m\u001b[0m\u001b[0;34m\u001b[0m\u001b[0m\n\u001b[0m\u001b[1;32m      3\u001b[0m \u001b[0mN\u001b[0m \u001b[0;34m=\u001b[0m \u001b[0mlist\u001b[0m\u001b[0;34m(\u001b[0m\u001b[0mint\u001b[0m\u001b[0;34m(\u001b[0m\u001b[0minput\u001b[0m\u001b[0;34m(\u001b[0m\u001b[0;34m)\u001b[0m\u001b[0;34m)\u001b[0m\u001b[0;34m)\u001b[0m\u001b[0;34m\u001b[0m\u001b[0;34m\u001b[0m\u001b[0m\n\u001b[1;32m      4\u001b[0m \u001b[0mSet1\u001b[0m \u001b[0;34m=\u001b[0m \u001b[0;34m(\u001b[0m\u001b[0minput\u001b[0m\u001b[0;34m(\u001b[0m\u001b[0;34m)\u001b[0m\u001b[0;34m.\u001b[0m\u001b[0msplit\u001b[0m\u001b[0;34m(\u001b[0m\u001b[0;34m)\u001b[0m\u001b[0;34m)\u001b[0m\u001b[0;34m\u001b[0m\u001b[0;34m\u001b[0m\u001b[0m\n\u001b[1;32m      5\u001b[0m \u001b[0;34m\u001b[0m\u001b[0m\n",
            "\u001b[0;31mTypeError\u001b[0m: 'set' object is not callable"
          ]
        }
      ]
    },
    {
      "cell_type": "markdown",
      "source": [
        "###ANSWER100"
      ],
      "metadata": {
        "id": "n2gLvvWY_1wj"
      }
    },
    {
      "cell_type": "code",
      "source": [
        "n_ish = int(input())\n",
        "counter_dict = {}\n",
        "words_list = []\n",
        "\n",
        "for i in range(n_ish):\n",
        "  word = input()\n",
        "  words_list.append(word)\n",
        "  if word in counter_dict:\n",
        "    counter_dict[word] += 1\n",
        "  else:\n",
        "    counter_dict[word] = 1\n",
        "    \n",
        "print(len(counter_dict))\n",
        "print(' '.join([str(counter_dict[word]) for word in counter_dict]))\n",
        "'''4\n",
        "bced\n",
        "bcedf\n",
        "bcedfg\n",
        "\n",
        "4\n",
        "1 1 1 1'''"
      ],
      "metadata": {
        "colab": {
          "base_uri": "https://localhost:8080/",
          "height": 391
        },
        "id": "-V8JM-MB_5X8",
        "outputId": "ab02a4ff-71e2-4a54-eda4-4e238f2c30ea"
      },
      "execution_count": null,
      "outputs": [
        {
          "output_type": "stream",
          "name": "stdout",
          "text": [
            "4\n",
            "bcefg\n",
            "bcdefg\n",
            "bcde\n",
            "bcdef\n",
            "4\n"
          ]
        },
        {
          "output_type": "error",
          "ename": "TypeError",
          "evalue": "ignored",
          "traceback": [
            "\u001b[0;31m---------------------------------------------------------------------------\u001b[0m",
            "\u001b[0;31mTypeError\u001b[0m                                 Traceback (most recent call last)",
            "\u001b[0;32m<ipython-input-82-9c2a7c06673f>\u001b[0m in \u001b[0;36m<module>\u001b[0;34m()\u001b[0m\n\u001b[1;32m     12\u001b[0m \u001b[0;34m\u001b[0m\u001b[0m\n\u001b[1;32m     13\u001b[0m \u001b[0mprint\u001b[0m\u001b[0;34m(\u001b[0m\u001b[0mlen\u001b[0m\u001b[0;34m(\u001b[0m\u001b[0mcounter_dict\u001b[0m\u001b[0;34m)\u001b[0m\u001b[0;34m)\u001b[0m\u001b[0;34m\u001b[0m\u001b[0;34m\u001b[0m\u001b[0m\n\u001b[0;32m---> 14\u001b[0;31m \u001b[0mprint\u001b[0m\u001b[0;34m(\u001b[0m\u001b[0;34m' '\u001b[0m\u001b[0;34m.\u001b[0m\u001b[0mjoin\u001b[0m\u001b[0;34m(\u001b[0m\u001b[0;34m[\u001b[0m\u001b[0mstr\u001b[0m\u001b[0;34m(\u001b[0m\u001b[0mcounter_dict\u001b[0m\u001b[0;34m[\u001b[0m\u001b[0mword\u001b[0m\u001b[0;34m]\u001b[0m\u001b[0;34m)\u001b[0m \u001b[0;32mfor\u001b[0m \u001b[0mword\u001b[0m \u001b[0;32min\u001b[0m \u001b[0mcounter_dict\u001b[0m\u001b[0;34m]\u001b[0m\u001b[0;34m)\u001b[0m\u001b[0;34m)\u001b[0m\u001b[0;34m\u001b[0m\u001b[0;34m\u001b[0m\u001b[0m\n\u001b[0m",
            "\u001b[0;32m<ipython-input-82-9c2a7c06673f>\u001b[0m in \u001b[0;36m<listcomp>\u001b[0;34m(.0)\u001b[0m\n\u001b[1;32m     12\u001b[0m \u001b[0;34m\u001b[0m\u001b[0m\n\u001b[1;32m     13\u001b[0m \u001b[0mprint\u001b[0m\u001b[0;34m(\u001b[0m\u001b[0mlen\u001b[0m\u001b[0;34m(\u001b[0m\u001b[0mcounter_dict\u001b[0m\u001b[0;34m)\u001b[0m\u001b[0;34m)\u001b[0m\u001b[0;34m\u001b[0m\u001b[0;34m\u001b[0m\u001b[0m\n\u001b[0;32m---> 14\u001b[0;31m \u001b[0mprint\u001b[0m\u001b[0;34m(\u001b[0m\u001b[0;34m' '\u001b[0m\u001b[0;34m.\u001b[0m\u001b[0mjoin\u001b[0m\u001b[0;34m(\u001b[0m\u001b[0;34m[\u001b[0m\u001b[0mstr\u001b[0m\u001b[0;34m(\u001b[0m\u001b[0mcounter_dict\u001b[0m\u001b[0;34m[\u001b[0m\u001b[0mword\u001b[0m\u001b[0;34m]\u001b[0m\u001b[0;34m)\u001b[0m \u001b[0;32mfor\u001b[0m \u001b[0mword\u001b[0m \u001b[0;32min\u001b[0m \u001b[0mcounter_dict\u001b[0m\u001b[0;34m]\u001b[0m\u001b[0;34m)\u001b[0m\u001b[0;34m)\u001b[0m\u001b[0;34m\u001b[0m\u001b[0;34m\u001b[0m\u001b[0m\n\u001b[0m",
            "\u001b[0;31mTypeError\u001b[0m: 'str' object is not callable"
          ]
        }
      ]
    }
  ]
}